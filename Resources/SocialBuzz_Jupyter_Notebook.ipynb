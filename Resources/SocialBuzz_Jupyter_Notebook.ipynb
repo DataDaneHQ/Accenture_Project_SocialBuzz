{
 "cells": [
  {
   "cell_type": "markdown",
   "id": "39d095a1-4003-40dd-b377-0356fd1bd0ee",
   "metadata": {},
   "source": [
    "# **Data Inspection**\n",
    "\n",
    "***Load Packages and CSV Files***"
   ]
  },
  {
   "cell_type": "code",
   "execution_count": 1,
   "id": "6d06881f-b091-4e6a-90ec-d762a83c718a",
   "metadata": {},
   "outputs": [],
   "source": [
    "import pandas as pd\n",
    "import numpy as np\n",
    "import seaborn as sns\n",
    "import matplotlib.pyplot as plt"
   ]
  },
  {
   "cell_type": "code",
   "execution_count": 2,
   "id": "ed347bdc-ceb7-435a-ae49-fc598e0c3b62",
   "metadata": {},
   "outputs": [],
   "source": [
    "# Load CSV files into DataFrames\n",
    "reactions_df = pd.read_csv(\"Reactions.csv\")\n",
    "content_df = pd.read_csv(\"Content.csv\")\n",
    "reaction_types_df = pd.read_csv(\"ReactionTypes.csv\")"
   ]
  },
  {
   "cell_type": "markdown",
   "id": "d2acc9c7-eab4-4b52-8c4d-9d1d2b1d608e",
   "metadata": {},
   "source": [
    "***`Reactions` Dataset***"
   ]
  },
  {
   "cell_type": "code",
   "execution_count": 92,
   "id": "10f37b1d-e12d-4295-9ad6-ed1919ff4634",
   "metadata": {},
   "outputs": [
    {
     "data": {
      "text/html": [
       "<div>\n",
       "<style scoped>\n",
       "    .dataframe tbody tr th:only-of-type {\n",
       "        vertical-align: middle;\n",
       "    }\n",
       "\n",
       "    .dataframe tbody tr th {\n",
       "        vertical-align: top;\n",
       "    }\n",
       "\n",
       "    .dataframe thead th {\n",
       "        text-align: right;\n",
       "    }\n",
       "</style>\n",
       "<table border=\"1\" class=\"dataframe\">\n",
       "  <thead>\n",
       "    <tr style=\"text-align: right;\">\n",
       "      <th></th>\n",
       "      <th>Unnamed: 0</th>\n",
       "      <th>Content ID</th>\n",
       "      <th>User ID</th>\n",
       "      <th>Reaction Type</th>\n",
       "      <th>Datetime</th>\n",
       "    </tr>\n",
       "  </thead>\n",
       "  <tbody>\n",
       "    <tr>\n",
       "      <th>0</th>\n",
       "      <td>0</td>\n",
       "      <td>97522e57-d9ab-4bd6-97bf-c24d952602d2</td>\n",
       "      <td>NaN</td>\n",
       "      <td>NaN</td>\n",
       "      <td>2021-04-22 15:17:15</td>\n",
       "    </tr>\n",
       "    <tr>\n",
       "      <th>1</th>\n",
       "      <td>1</td>\n",
       "      <td>97522e57-d9ab-4bd6-97bf-c24d952602d2</td>\n",
       "      <td>5d454588-283d-459d-915d-c48a2cb4c27f</td>\n",
       "      <td>disgust</td>\n",
       "      <td>2020-11-07 09:43:50</td>\n",
       "    </tr>\n",
       "  </tbody>\n",
       "</table>\n",
       "</div>"
      ],
      "text/plain": [
       "   Unnamed: 0                            Content ID  \\\n",
       "0           0  97522e57-d9ab-4bd6-97bf-c24d952602d2   \n",
       "1           1  97522e57-d9ab-4bd6-97bf-c24d952602d2   \n",
       "\n",
       "                                User ID Reaction Type             Datetime  \n",
       "0                                   NaN           NaN  2021-04-22 15:17:15  \n",
       "1  5d454588-283d-459d-915d-c48a2cb4c27f       disgust  2020-11-07 09:43:50  "
      ]
     },
     "execution_count": 92,
     "metadata": {},
     "output_type": "execute_result"
    }
   ],
   "source": [
    "reactions_df.head(2)"
   ]
  },
  {
   "cell_type": "markdown",
   "id": "4f1e4113-db32-4554-8dbd-976ee24e4d78",
   "metadata": {},
   "source": [
    "***`Content` Dataset***"
   ]
  },
  {
   "cell_type": "code",
   "execution_count": 93,
   "id": "3bec834a-3f89-4b9b-95f3-b810884da934",
   "metadata": {},
   "outputs": [
    {
     "data": {
      "text/html": [
       "<div>\n",
       "<style scoped>\n",
       "    .dataframe tbody tr th:only-of-type {\n",
       "        vertical-align: middle;\n",
       "    }\n",
       "\n",
       "    .dataframe tbody tr th {\n",
       "        vertical-align: top;\n",
       "    }\n",
       "\n",
       "    .dataframe thead th {\n",
       "        text-align: right;\n",
       "    }\n",
       "</style>\n",
       "<table border=\"1\" class=\"dataframe\">\n",
       "  <thead>\n",
       "    <tr style=\"text-align: right;\">\n",
       "      <th></th>\n",
       "      <th>Unnamed: 0</th>\n",
       "      <th>Content ID</th>\n",
       "      <th>User ID</th>\n",
       "      <th>Content Type</th>\n",
       "      <th>Category</th>\n",
       "      <th>URL</th>\n",
       "    </tr>\n",
       "  </thead>\n",
       "  <tbody>\n",
       "    <tr>\n",
       "      <th>0</th>\n",
       "      <td>0</td>\n",
       "      <td>97522e57-d9ab-4bd6-97bf-c24d952602d2</td>\n",
       "      <td>8d3cd87d-8a31-4935-9a4f-b319bfe05f31</td>\n",
       "      <td>photo</td>\n",
       "      <td>Studying</td>\n",
       "      <td>https://socialbuzz.cdn.com/content/storage/975...</td>\n",
       "    </tr>\n",
       "    <tr>\n",
       "      <th>1</th>\n",
       "      <td>1</td>\n",
       "      <td>9f737e0a-3cdd-4d29-9d24-753f4e3be810</td>\n",
       "      <td>beb1f34e-7870-46d6-9fc7-2e12eb83ce43</td>\n",
       "      <td>photo</td>\n",
       "      <td>healthy eating</td>\n",
       "      <td>https://socialbuzz.cdn.com/content/storage/9f7...</td>\n",
       "    </tr>\n",
       "  </tbody>\n",
       "</table>\n",
       "</div>"
      ],
      "text/plain": [
       "   Unnamed: 0                            Content ID  \\\n",
       "0           0  97522e57-d9ab-4bd6-97bf-c24d952602d2   \n",
       "1           1  9f737e0a-3cdd-4d29-9d24-753f4e3be810   \n",
       "\n",
       "                                User ID Content Type        Category  \\\n",
       "0  8d3cd87d-8a31-4935-9a4f-b319bfe05f31        photo        Studying   \n",
       "1  beb1f34e-7870-46d6-9fc7-2e12eb83ce43        photo  healthy eating   \n",
       "\n",
       "                                                 URL  \n",
       "0  https://socialbuzz.cdn.com/content/storage/975...  \n",
       "1  https://socialbuzz.cdn.com/content/storage/9f7...  "
      ]
     },
     "execution_count": 93,
     "metadata": {},
     "output_type": "execute_result"
    }
   ],
   "source": [
    "content_df.head(2)"
   ]
  },
  {
   "cell_type": "markdown",
   "id": "54edcc07-dfe4-4a3f-84f2-074e15916331",
   "metadata": {},
   "source": [
    "***`Reaction Types` Dataset***"
   ]
  },
  {
   "cell_type": "code",
   "execution_count": 94,
   "id": "ecfe6153-e738-4e04-8c9d-02edb14d5a9f",
   "metadata": {},
   "outputs": [
    {
     "data": {
      "text/html": [
       "<div>\n",
       "<style scoped>\n",
       "    .dataframe tbody tr th:only-of-type {\n",
       "        vertical-align: middle;\n",
       "    }\n",
       "\n",
       "    .dataframe tbody tr th {\n",
       "        vertical-align: top;\n",
       "    }\n",
       "\n",
       "    .dataframe thead th {\n",
       "        text-align: right;\n",
       "    }\n",
       "</style>\n",
       "<table border=\"1\" class=\"dataframe\">\n",
       "  <thead>\n",
       "    <tr style=\"text-align: right;\">\n",
       "      <th></th>\n",
       "      <th>Unnamed: 0</th>\n",
       "      <th>Reaction Type</th>\n",
       "      <th>Sentiment</th>\n",
       "      <th>Score</th>\n",
       "    </tr>\n",
       "  </thead>\n",
       "  <tbody>\n",
       "    <tr>\n",
       "      <th>0</th>\n",
       "      <td>0</td>\n",
       "      <td>heart</td>\n",
       "      <td>positive</td>\n",
       "      <td>60</td>\n",
       "    </tr>\n",
       "    <tr>\n",
       "      <th>1</th>\n",
       "      <td>1</td>\n",
       "      <td>want</td>\n",
       "      <td>positive</td>\n",
       "      <td>70</td>\n",
       "    </tr>\n",
       "  </tbody>\n",
       "</table>\n",
       "</div>"
      ],
      "text/plain": [
       "   Unnamed: 0 Reaction Type Sentiment  Score\n",
       "0           0         heart  positive     60\n",
       "1           1          want  positive     70"
      ]
     },
     "execution_count": 94,
     "metadata": {},
     "output_type": "execute_result"
    }
   ],
   "source": [
    "reaction_types_df.head(2)"
   ]
  },
  {
   "cell_type": "markdown",
   "id": "08a9ab3f-48e8-41d2-a986-f72da1eed0ae",
   "metadata": {},
   "source": [
    "<br>\n",
    "\n",
    "# **Data Cleaning**"
   ]
  },
  {
   "cell_type": "markdown",
   "id": "05880d70-2f4f-417f-9190-06bdad90d66e",
   "metadata": {},
   "source": [
    "### **Rename Columns**\n",
    "\n",
    "During the initial inspection, some discrepancies in column names were identified, so let’s address that right away."
   ]
  },
  {
   "cell_type": "code",
   "execution_count": 67,
   "id": "abae72ad-fe37-4cc4-982d-8bc140755ff2",
   "metadata": {},
   "outputs": [
    {
     "data": {
      "text/html": [
       "<div>\n",
       "<style scoped>\n",
       "    .dataframe tbody tr th:only-of-type {\n",
       "        vertical-align: middle;\n",
       "    }\n",
       "\n",
       "    .dataframe tbody tr th {\n",
       "        vertical-align: top;\n",
       "    }\n",
       "\n",
       "    .dataframe thead th {\n",
       "        text-align: right;\n",
       "    }\n",
       "</style>\n",
       "<table border=\"1\" class=\"dataframe\">\n",
       "  <thead>\n",
       "    <tr style=\"text-align: right;\">\n",
       "      <th></th>\n",
       "      <th>Unnamed: 0</th>\n",
       "      <th>Content ID</th>\n",
       "      <th>User ID</th>\n",
       "      <th>Reaction Type</th>\n",
       "      <th>Datetime</th>\n",
       "    </tr>\n",
       "  </thead>\n",
       "  <tbody>\n",
       "    <tr>\n",
       "      <th>0</th>\n",
       "      <td>0</td>\n",
       "      <td>97522e57-d9ab-4bd6-97bf-c24d952602d2</td>\n",
       "      <td>NaN</td>\n",
       "      <td>NaN</td>\n",
       "      <td>2021-04-22 15:17:15</td>\n",
       "    </tr>\n",
       "    <tr>\n",
       "      <th>1</th>\n",
       "      <td>1</td>\n",
       "      <td>97522e57-d9ab-4bd6-97bf-c24d952602d2</td>\n",
       "      <td>5d454588-283d-459d-915d-c48a2cb4c27f</td>\n",
       "      <td>disgust</td>\n",
       "      <td>2020-11-07 09:43:50</td>\n",
       "    </tr>\n",
       "  </tbody>\n",
       "</table>\n",
       "</div>"
      ],
      "text/plain": [
       "   Unnamed: 0                            Content ID  \\\n",
       "0           0  97522e57-d9ab-4bd6-97bf-c24d952602d2   \n",
       "1           1  97522e57-d9ab-4bd6-97bf-c24d952602d2   \n",
       "\n",
       "                                User ID Reaction Type             Datetime  \n",
       "0                                   NaN           NaN  2021-04-22 15:17:15  \n",
       "1  5d454588-283d-459d-915d-c48a2cb4c27f       disgust  2020-11-07 09:43:50  "
      ]
     },
     "execution_count": 67,
     "metadata": {},
     "output_type": "execute_result"
    }
   ],
   "source": [
    "# Change column name from \"Type\" to \"Reaction Type\"\n",
    "reactions_df = reactions_df.rename(columns={\"Type\": \"Reaction Type\"})\n",
    "reactions_df.head(2)"
   ]
  },
  {
   "cell_type": "code",
   "execution_count": 68,
   "id": "2b4f216b-1b5f-48ad-9c51-f2802d18b33d",
   "metadata": {},
   "outputs": [
    {
     "data": {
      "text/html": [
       "<div>\n",
       "<style scoped>\n",
       "    .dataframe tbody tr th:only-of-type {\n",
       "        vertical-align: middle;\n",
       "    }\n",
       "\n",
       "    .dataframe tbody tr th {\n",
       "        vertical-align: top;\n",
       "    }\n",
       "\n",
       "    .dataframe thead th {\n",
       "        text-align: right;\n",
       "    }\n",
       "</style>\n",
       "<table border=\"1\" class=\"dataframe\">\n",
       "  <thead>\n",
       "    <tr style=\"text-align: right;\">\n",
       "      <th></th>\n",
       "      <th>Unnamed: 0</th>\n",
       "      <th>Content ID</th>\n",
       "      <th>User ID</th>\n",
       "      <th>Content Type</th>\n",
       "      <th>Category</th>\n",
       "      <th>URL</th>\n",
       "    </tr>\n",
       "  </thead>\n",
       "  <tbody>\n",
       "    <tr>\n",
       "      <th>0</th>\n",
       "      <td>0</td>\n",
       "      <td>97522e57-d9ab-4bd6-97bf-c24d952602d2</td>\n",
       "      <td>8d3cd87d-8a31-4935-9a4f-b319bfe05f31</td>\n",
       "      <td>photo</td>\n",
       "      <td>Studying</td>\n",
       "      <td>https://socialbuzz.cdn.com/content/storage/975...</td>\n",
       "    </tr>\n",
       "    <tr>\n",
       "      <th>1</th>\n",
       "      <td>1</td>\n",
       "      <td>9f737e0a-3cdd-4d29-9d24-753f4e3be810</td>\n",
       "      <td>beb1f34e-7870-46d6-9fc7-2e12eb83ce43</td>\n",
       "      <td>photo</td>\n",
       "      <td>healthy eating</td>\n",
       "      <td>https://socialbuzz.cdn.com/content/storage/9f7...</td>\n",
       "    </tr>\n",
       "  </tbody>\n",
       "</table>\n",
       "</div>"
      ],
      "text/plain": [
       "   Unnamed: 0                            Content ID  \\\n",
       "0           0  97522e57-d9ab-4bd6-97bf-c24d952602d2   \n",
       "1           1  9f737e0a-3cdd-4d29-9d24-753f4e3be810   \n",
       "\n",
       "                                User ID Content Type        Category  \\\n",
       "0  8d3cd87d-8a31-4935-9a4f-b319bfe05f31        photo        Studying   \n",
       "1  beb1f34e-7870-46d6-9fc7-2e12eb83ce43        photo  healthy eating   \n",
       "\n",
       "                                                 URL  \n",
       "0  https://socialbuzz.cdn.com/content/storage/975...  \n",
       "1  https://socialbuzz.cdn.com/content/storage/9f7...  "
      ]
     },
     "execution_count": 68,
     "metadata": {},
     "output_type": "execute_result"
    }
   ],
   "source": [
    "# Change column name from \"Type\" to \"Content Type\"\n",
    "content_df = content_df.rename(columns={\"Type\": \"Content Type\"})\n",
    "content_df.head(2)"
   ]
  },
  {
   "cell_type": "code",
   "execution_count": 69,
   "id": "6e9c97d1-b441-4d6e-ab11-01902e2ee338",
   "metadata": {},
   "outputs": [
    {
     "data": {
      "text/html": [
       "<div>\n",
       "<style scoped>\n",
       "    .dataframe tbody tr th:only-of-type {\n",
       "        vertical-align: middle;\n",
       "    }\n",
       "\n",
       "    .dataframe tbody tr th {\n",
       "        vertical-align: top;\n",
       "    }\n",
       "\n",
       "    .dataframe thead th {\n",
       "        text-align: right;\n",
       "    }\n",
       "</style>\n",
       "<table border=\"1\" class=\"dataframe\">\n",
       "  <thead>\n",
       "    <tr style=\"text-align: right;\">\n",
       "      <th></th>\n",
       "      <th>Unnamed: 0</th>\n",
       "      <th>Reaction Type</th>\n",
       "      <th>Sentiment</th>\n",
       "      <th>Score</th>\n",
       "    </tr>\n",
       "  </thead>\n",
       "  <tbody>\n",
       "    <tr>\n",
       "      <th>0</th>\n",
       "      <td>0</td>\n",
       "      <td>heart</td>\n",
       "      <td>positive</td>\n",
       "      <td>60</td>\n",
       "    </tr>\n",
       "    <tr>\n",
       "      <th>1</th>\n",
       "      <td>1</td>\n",
       "      <td>want</td>\n",
       "      <td>positive</td>\n",
       "      <td>70</td>\n",
       "    </tr>\n",
       "  </tbody>\n",
       "</table>\n",
       "</div>"
      ],
      "text/plain": [
       "   Unnamed: 0 Reaction Type Sentiment  Score\n",
       "0           0         heart  positive     60\n",
       "1           1          want  positive     70"
      ]
     },
     "execution_count": 69,
     "metadata": {},
     "output_type": "execute_result"
    }
   ],
   "source": [
    "# Change column name from \"Type\" to \"Reaction Type\"\n",
    "reaction_types_df = reaction_types_df.rename(columns={\"Type\": \"Reaction Type\"})\n",
    "reaction_types_df.head(2)"
   ]
  },
  {
   "cell_type": "markdown",
   "id": "8cafc16d-b3de-4fbb-90b9-82c96ed1e3db",
   "metadata": {},
   "source": [
    "<br>\n",
    "\n",
    "### **Handle Missing Values**"
   ]
  },
  {
   "cell_type": "markdown",
   "id": "6aad4256-7186-4dc9-a8db-35f1b3f76693",
   "metadata": {},
   "source": [
    "***`Reactions` Dataset***"
   ]
  },
  {
   "cell_type": "code",
   "execution_count": 70,
   "id": "c1483176-027f-43b4-bd46-a2854a246abc",
   "metadata": {},
   "outputs": [
    {
     "data": {
      "text/plain": [
       "Unnamed: 0          0\n",
       "Content ID          0\n",
       "User ID          3019\n",
       "Reaction Type     980\n",
       "Datetime            0\n",
       "dtype: int64"
      ]
     },
     "execution_count": 70,
     "metadata": {},
     "output_type": "execute_result"
    }
   ],
   "source": [
    "# Calculate missing data\n",
    "reactions_df.isnull().sum()"
   ]
  },
  {
   "cell_type": "markdown",
   "id": "5f5eb183-b4b7-4f70-89d3-3cfa93555e32",
   "metadata": {},
   "source": [
    "***Actions:***\n",
    "\n",
    "* Remove the entire `User ID` column as it has been deemed irrelevant for this analysis\n",
    "* Remove all blank rows from the `Reaction Type` column"
   ]
  },
  {
   "cell_type": "code",
   "execution_count": 71,
   "id": "6fe74525-1111-4bf5-ae55-286aa1b47cf3",
   "metadata": {},
   "outputs": [],
   "source": [
    "# Drop \"User ID\" column and assign to new dataframe\n",
    "reactions_cleaned = reactions_df.drop(columns=['User ID'])"
   ]
  },
  {
   "cell_type": "code",
   "execution_count": 72,
   "id": "c415b3fa-88e9-40b5-b3ea-f413a713b784",
   "metadata": {},
   "outputs": [
    {
     "data": {
      "text/plain": [
       "Unnamed: 0       0\n",
       "Content ID       0\n",
       "Reaction Type    0\n",
       "Datetime         0\n",
       "dtype: int64"
      ]
     },
     "execution_count": 72,
     "metadata": {},
     "output_type": "execute_result"
    }
   ],
   "source": [
    "# Drop null values and confirm changes\n",
    "reactions_cleaned.dropna(inplace=True)\n",
    "reactions_cleaned.isnull().sum()"
   ]
  },
  {
   "cell_type": "markdown",
   "id": "3cc62e01-abbb-43ef-8c2c-9078cce9c14f",
   "metadata": {},
   "source": [
    "<br>\n",
    "\n",
    "***`Content` Dataset***"
   ]
  },
  {
   "cell_type": "code",
   "execution_count": 73,
   "id": "2721e332-07cd-4fe4-ac18-5c8318968fe9",
   "metadata": {},
   "outputs": [
    {
     "data": {
      "text/plain": [
       "Unnamed: 0        0\n",
       "Content ID        0\n",
       "User ID           0\n",
       "Content Type      0\n",
       "Category          0\n",
       "URL             199\n",
       "dtype: int64"
      ]
     },
     "execution_count": 73,
     "metadata": {},
     "output_type": "execute_result"
    }
   ],
   "source": [
    "content_df.isnull().sum()"
   ]
  },
  {
   "cell_type": "markdown",
   "id": "fd49d16a-038f-4e65-84c6-6906df839ab0",
   "metadata": {},
   "source": [
    "***Action:***\n",
    "\n",
    "* Drop the `URL` column as it too is unecessary for our analysis"
   ]
  },
  {
   "cell_type": "code",
   "execution_count": 74,
   "id": "3c4db952-24fa-4720-98d1-d32b459b1d33",
   "metadata": {},
   "outputs": [
    {
     "data": {
      "text/plain": [
       "Unnamed: 0      0\n",
       "Content ID      0\n",
       "User ID         0\n",
       "Content Type    0\n",
       "Category        0\n",
       "dtype: int64"
      ]
     },
     "execution_count": 74,
     "metadata": {},
     "output_type": "execute_result"
    }
   ],
   "source": [
    "# Drop \"URL\" column, assign to new dataframe, and confirm changes\n",
    "content_cleaned = content_df.drop(columns=['URL'])\n",
    "content_cleaned.isnull().sum()"
   ]
  },
  {
   "cell_type": "markdown",
   "id": "80b4b944-7583-4b2d-a6f0-17b30ea679a1",
   "metadata": {},
   "source": [
    "<br>\n",
    "\n",
    "***`Reaction Types` Dataset***"
   ]
  },
  {
   "cell_type": "code",
   "execution_count": 75,
   "id": "856d9ec6-50e3-4fc0-9c6a-4c011f8f74fc",
   "metadata": {},
   "outputs": [
    {
     "data": {
      "text/plain": [
       "Unnamed: 0       0\n",
       "Reaction Type    0\n",
       "Sentiment        0\n",
       "Score            0\n",
       "dtype: int64"
      ]
     },
     "execution_count": 75,
     "metadata": {},
     "output_type": "execute_result"
    }
   ],
   "source": [
    "reaction_types_df.isnull().sum()"
   ]
  },
  {
   "cell_type": "code",
   "execution_count": 76,
   "id": "b72a1f17-83f2-431f-9f7f-8a555dd48e53",
   "metadata": {},
   "outputs": [],
   "source": [
    "# Assign to new dataframe for consistancy\n",
    "reaction_types_cleaned = reaction_types_df"
   ]
  },
  {
   "cell_type": "markdown",
   "id": "e4fd672c-dffd-46bb-a5e7-c6b51f332464",
   "metadata": {},
   "source": [
    "***No further action required***"
   ]
  },
  {
   "cell_type": "markdown",
   "id": "e75efd42-a41f-4423-9d47-5a98f610fd1d",
   "metadata": {},
   "source": [
    "<br>\n",
    "\n",
    "### **Data Formatting**\n",
    "\n",
    "***`Reactions` Dataset***"
   ]
  },
  {
   "cell_type": "code",
   "execution_count": 95,
   "id": "7a2287e3-cd14-4d4f-a9a9-b648b6a44ac4",
   "metadata": {},
   "outputs": [
    {
     "name": "stdout",
     "output_type": "stream",
     "text": [
      "<class 'pandas.core.frame.DataFrame'>\n",
      "Index: 24573 entries, 1 to 25552\n",
      "Data columns (total 4 columns):\n",
      " #   Column         Non-Null Count  Dtype \n",
      "---  ------         --------------  ----- \n",
      " 0   Unnamed: 0     24573 non-null  int64 \n",
      " 1   Content ID     24573 non-null  object\n",
      " 2   Reaction Type  24573 non-null  object\n",
      " 3   Datetime       24573 non-null  object\n",
      "dtypes: int64(1), object(3)\n",
      "memory usage: 959.9+ KB\n"
     ]
    }
   ],
   "source": [
    "reactions_cleaned.info()"
   ]
  },
  {
   "cell_type": "markdown",
   "id": "d87bd075-470b-4655-ac67-30e03eed8296",
   "metadata": {},
   "source": [
    "***Action***\n",
    "\n",
    "* Convert `Datetime` column to datetime"
   ]
  },
  {
   "cell_type": "code",
   "execution_count": 102,
   "id": "88bb1b4d-8034-4ccd-bb2f-06667e7472f2",
   "metadata": {},
   "outputs": [
    {
     "data": {
      "text/plain": [
       "Unnamed: 0                int64\n",
       "Content ID               object\n",
       "Reaction Type            object\n",
       "Datetime         datetime64[ns]\n",
       "dtype: object"
      ]
     },
     "execution_count": 102,
     "metadata": {},
     "output_type": "execute_result"
    }
   ],
   "source": [
    "# Convert to datetime, matching the actual format\n",
    "reactions_cleaned['Datetime'] = pd.to_datetime(reactions_cleaned['Datetime'], format='%Y-%m-%d %H:%M:%S', errors='coerce')\n",
    "\n",
    "# Convert to datetime without specifying format\n",
    "reactions_cleaned['Datetime'] = pd.to_datetime(reactions_cleaned['Datetime'], errors='coerce')\n",
    "\n",
    "# Confirm changes\n",
    "reactions_cleaned.dtypes"
   ]
  },
  {
   "cell_type": "code",
   "execution_count": 103,
   "id": "8410ae0a-720b-4278-9c20-c070079a0248",
   "metadata": {},
   "outputs": [
    {
     "data": {
      "text/html": [
       "<div>\n",
       "<style scoped>\n",
       "    .dataframe tbody tr th:only-of-type {\n",
       "        vertical-align: middle;\n",
       "    }\n",
       "\n",
       "    .dataframe tbody tr th {\n",
       "        vertical-align: top;\n",
       "    }\n",
       "\n",
       "    .dataframe thead th {\n",
       "        text-align: right;\n",
       "    }\n",
       "</style>\n",
       "<table border=\"1\" class=\"dataframe\">\n",
       "  <thead>\n",
       "    <tr style=\"text-align: right;\">\n",
       "      <th></th>\n",
       "      <th>Unnamed: 0</th>\n",
       "      <th>Content ID</th>\n",
       "      <th>Reaction Type</th>\n",
       "      <th>Datetime</th>\n",
       "    </tr>\n",
       "  </thead>\n",
       "  <tbody>\n",
       "    <tr>\n",
       "      <th>1</th>\n",
       "      <td>1</td>\n",
       "      <td>97522e57-d9ab-4bd6-97bf-c24d952602d2</td>\n",
       "      <td>disgust</td>\n",
       "      <td>2020-11-07 09:43:50</td>\n",
       "    </tr>\n",
       "  </tbody>\n",
       "</table>\n",
       "</div>"
      ],
      "text/plain": [
       "   Unnamed: 0                            Content ID Reaction Type  \\\n",
       "1           1  97522e57-d9ab-4bd6-97bf-c24d952602d2       disgust   \n",
       "\n",
       "             Datetime  \n",
       "1 2020-11-07 09:43:50  "
      ]
     },
     "execution_count": 103,
     "metadata": {},
     "output_type": "execute_result"
    }
   ],
   "source": [
    "reactions_cleaned.head(1)"
   ]
  },
  {
   "cell_type": "markdown",
   "id": "8df15f60-6f38-4824-9f99-3131afe66929",
   "metadata": {},
   "source": [
    "***Check for Inconsistencies***"
   ]
  },
  {
   "cell_type": "code",
   "execution_count": 77,
   "id": "d8bcb626-c8e4-4b17-95a4-4320dcedca71",
   "metadata": {},
   "outputs": [
    {
     "data": {
      "text/plain": [
       "array(['disgust', 'dislike', 'scared', 'interested', 'peeking', 'cherish',\n",
       "       'hate', 'love', 'indifferent', 'super love', 'intrigued',\n",
       "       'worried', 'like', 'heart', 'want', 'adore'], dtype=object)"
      ]
     },
     "execution_count": 77,
     "metadata": {},
     "output_type": "execute_result"
    }
   ],
   "source": [
    "reactions_cleaned['Reaction Type'].unique()"
   ]
  },
  {
   "cell_type": "markdown",
   "id": "c2cd1015-97e1-494b-a8e2-19c6c4f6b0ba",
   "metadata": {},
   "source": [
    "***No Action Required***\n",
    "\n",
    "<br>\n",
    "\n",
    "***`Content` Dataset***"
   ]
  },
  {
   "cell_type": "code",
   "execution_count": 104,
   "id": "c7c0d58c-c712-4daa-a153-c35c07b55128",
   "metadata": {},
   "outputs": [
    {
     "name": "stdout",
     "output_type": "stream",
     "text": [
      "<class 'pandas.core.frame.DataFrame'>\n",
      "RangeIndex: 1000 entries, 0 to 999\n",
      "Data columns (total 5 columns):\n",
      " #   Column        Non-Null Count  Dtype \n",
      "---  ------        --------------  ----- \n",
      " 0   Unnamed: 0    1000 non-null   int64 \n",
      " 1   Content ID    1000 non-null   object\n",
      " 2   User ID       1000 non-null   object\n",
      " 3   Content Type  1000 non-null   object\n",
      " 4   Category      1000 non-null   object\n",
      "dtypes: int64(1), object(4)\n",
      "memory usage: 39.2+ KB\n"
     ]
    }
   ],
   "source": [
    "content_cleaned.info()"
   ]
  },
  {
   "cell_type": "markdown",
   "id": "e09a78b6-e226-4fd1-8d6f-e3edd2ccc217",
   "metadata": {},
   "source": [
    "***Check for Inconsistencies***"
   ]
  },
  {
   "cell_type": "code",
   "execution_count": 78,
   "id": "677c9643-50fc-4a65-92ff-476fad55a5d2",
   "metadata": {},
   "outputs": [
    {
     "data": {
      "text/plain": [
       "array(['photo', 'video', 'GIF', 'audio'], dtype=object)"
      ]
     },
     "execution_count": 78,
     "metadata": {},
     "output_type": "execute_result"
    }
   ],
   "source": [
    "content_cleaned['Content Type'].unique()"
   ]
  },
  {
   "cell_type": "code",
   "execution_count": 79,
   "id": "7e6be2cb-ca97-4ad7-98b1-b47ca696513e",
   "metadata": {},
   "outputs": [
    {
     "data": {
      "text/plain": [
       "array(['Studying', 'healthy eating', 'technology', 'food', 'cooking',\n",
       "       'dogs', 'soccer', 'public speaking', 'science', 'tennis', 'travel',\n",
       "       'fitness', 'education', 'studying', 'veganism', 'Animals',\n",
       "       'animals', 'culture', '\"culture\"', 'Fitness', '\"studying\"',\n",
       "       'Veganism', '\"animals\"', 'Travel', '\"soccer\"', 'Education',\n",
       "       '\"dogs\"', 'Technology', 'Soccer', '\"tennis\"', 'Culture', '\"food\"',\n",
       "       'Food', '\"technology\"', 'Healthy Eating', '\"cooking\"', 'Science',\n",
       "       '\"public speaking\"', '\"veganism\"', 'Public Speaking', '\"science\"'],\n",
       "      dtype=object)"
      ]
     },
     "execution_count": 79,
     "metadata": {},
     "output_type": "execute_result"
    }
   ],
   "source": [
    "content_cleaned['Category'].unique()"
   ]
  },
  {
   "cell_type": "markdown",
   "id": "6710a44e-75df-458e-8e7c-676464279915",
   "metadata": {},
   "source": [
    "***Action***\n",
    "\n",
    "* Some rows contain quotation marks, and some have capitalized letters. Remove the quotation marks and convert all text to lowercase"
   ]
  },
  {
   "cell_type": "code",
   "execution_count": 80,
   "id": "fcc01b51-7e4b-4d8f-9948-f2bf405f1110",
   "metadata": {},
   "outputs": [],
   "source": [
    "# Remove additional quotation marks from the 'Category' column\n",
    "content_cleaned['Category'] = content_cleaned['Category'].str.replace('\"', '', regex=False)"
   ]
  },
  {
   "cell_type": "code",
   "execution_count": 81,
   "id": "d5d3d047-4260-4d37-8ba0-341c37b61934",
   "metadata": {},
   "outputs": [
    {
     "data": {
      "text/plain": [
       "array(['studying', 'healthy eating', 'technology', 'food', 'cooking',\n",
       "       'dogs', 'soccer', 'public speaking', 'science', 'tennis', 'travel',\n",
       "       'fitness', 'education', 'veganism', 'animals', 'culture'],\n",
       "      dtype=object)"
      ]
     },
     "execution_count": 81,
     "metadata": {},
     "output_type": "execute_result"
    }
   ],
   "source": [
    "# Convert \"Category\" column to lowercase to standardize names\n",
    "content_cleaned[\"Category\"] = content_cleaned[\"Category\"].str.lower()\n",
    "content_cleaned['Category'].unique()"
   ]
  },
  {
   "cell_type": "markdown",
   "id": "8ae18d6c-4c00-49e3-8dbe-8ea7304c20f9",
   "metadata": {},
   "source": [
    "<br>\n",
    "\n",
    "***`Reaction Types` Dataset***"
   ]
  },
  {
   "cell_type": "code",
   "execution_count": 105,
   "id": "5847382c-5aa8-4536-9088-49af56d43a34",
   "metadata": {},
   "outputs": [
    {
     "name": "stdout",
     "output_type": "stream",
     "text": [
      "<class 'pandas.core.frame.DataFrame'>\n",
      "RangeIndex: 16 entries, 0 to 15\n",
      "Data columns (total 4 columns):\n",
      " #   Column         Non-Null Count  Dtype \n",
      "---  ------         --------------  ----- \n",
      " 0   Unnamed: 0     16 non-null     int64 \n",
      " 1   Reaction Type  16 non-null     object\n",
      " 2   Sentiment      16 non-null     object\n",
      " 3   Score          16 non-null     int64 \n",
      "dtypes: int64(2), object(2)\n",
      "memory usage: 644.0+ bytes\n"
     ]
    }
   ],
   "source": [
    "reaction_types_cleaned.info()"
   ]
  },
  {
   "cell_type": "markdown",
   "id": "daad93bc-3fe7-4a4a-821b-e27afe4ca72c",
   "metadata": {},
   "source": [
    "***Check for Inconsistencies***"
   ]
  },
  {
   "cell_type": "code",
   "execution_count": 82,
   "id": "ad5f8c20-b135-44c3-af3d-383ac8c63a27",
   "metadata": {},
   "outputs": [
    {
     "data": {
      "text/plain": [
       "array(['heart', 'want', 'disgust', 'hate', 'interested', 'indifferent',\n",
       "       'love', 'super love', 'cherish', 'adore', 'like', 'dislike',\n",
       "       'intrigued', 'peeking', 'scared', 'worried'], dtype=object)"
      ]
     },
     "execution_count": 82,
     "metadata": {},
     "output_type": "execute_result"
    }
   ],
   "source": [
    "reaction_types_cleaned['Reaction Type'].unique()"
   ]
  },
  {
   "cell_type": "code",
   "execution_count": 83,
   "id": "061ae033-77d8-497f-96ae-8412cb64cc18",
   "metadata": {},
   "outputs": [
    {
     "data": {
      "text/plain": [
       "array(['positive', 'negative', 'neutral'], dtype=object)"
      ]
     },
     "execution_count": 83,
     "metadata": {},
     "output_type": "execute_result"
    }
   ],
   "source": [
    "reaction_types_cleaned['Sentiment'].unique()"
   ]
  },
  {
   "cell_type": "markdown",
   "id": "cd0fad57-dbbc-491e-86b8-22f56b887dea",
   "metadata": {},
   "source": [
    "***No Action Required***"
   ]
  },
  {
   "cell_type": "markdown",
   "id": "9a4df2b2-766c-4996-8852-6ca2edd31c46",
   "metadata": {},
   "source": [
    "<br>\n",
    "\n",
    "### **Duplicates**\n",
    "\n",
    "***`Reactions` Dataset***"
   ]
  },
  {
   "cell_type": "code",
   "execution_count": 84,
   "id": "cc499b12-0627-44c1-a04f-b1c42e857139",
   "metadata": {},
   "outputs": [
    {
     "name": "stdout",
     "output_type": "stream",
     "text": [
      "Number of duplicate rows: 0\n"
     ]
    }
   ],
   "source": [
    "print(f\"Number of duplicate rows: {reactions_cleaned.duplicated().sum()}\")"
   ]
  },
  {
   "cell_type": "markdown",
   "id": "54801106-698d-4bd7-8af6-f6f5dd7c5a4e",
   "metadata": {},
   "source": [
    "***`Content` Dataset***"
   ]
  },
  {
   "cell_type": "code",
   "execution_count": 85,
   "id": "2ab43c32-43d8-48e3-a5a8-2441a1a6e018",
   "metadata": {},
   "outputs": [
    {
     "name": "stdout",
     "output_type": "stream",
     "text": [
      "Number of duplicate rows: 0\n"
     ]
    }
   ],
   "source": [
    "print(f\"Number of duplicate rows: {content_cleaned.duplicated().sum()}\")"
   ]
  },
  {
   "cell_type": "markdown",
   "id": "5844c8b2-fd04-4f6f-9bd9-3aae0e309057",
   "metadata": {},
   "source": [
    "***`Reaction Types` Dataset***"
   ]
  },
  {
   "cell_type": "code",
   "execution_count": 86,
   "id": "69e323b9-d5ce-42c5-b532-d3594929556e",
   "metadata": {},
   "outputs": [
    {
     "name": "stdout",
     "output_type": "stream",
     "text": [
      "Number of duplicate rows: 0\n"
     ]
    }
   ],
   "source": [
    "print(f\"Number of duplicate rows: {reaction_types_cleaned.duplicated().sum()}\")"
   ]
  },
  {
   "cell_type": "markdown",
   "id": "21e8baea-a799-430e-bb06-dfadbde21fe0",
   "metadata": {},
   "source": [
    "<br>\n",
    "\n",
    "# **Data Modelling**\n",
    "\n",
    "***Merge Datasets***"
   ]
  },
  {
   "cell_type": "code",
   "execution_count": 87,
   "id": "45b68548-dbe7-43f3-acb8-57f1d8d86df0",
   "metadata": {},
   "outputs": [
    {
     "data": {
      "text/html": [
       "<div>\n",
       "<style scoped>\n",
       "    .dataframe tbody tr th:only-of-type {\n",
       "        vertical-align: middle;\n",
       "    }\n",
       "\n",
       "    .dataframe tbody tr th {\n",
       "        vertical-align: top;\n",
       "    }\n",
       "\n",
       "    .dataframe thead th {\n",
       "        text-align: right;\n",
       "    }\n",
       "</style>\n",
       "<table border=\"1\" class=\"dataframe\">\n",
       "  <thead>\n",
       "    <tr style=\"text-align: right;\">\n",
       "      <th></th>\n",
       "      <th>Unnamed: 0_x</th>\n",
       "      <th>Content ID</th>\n",
       "      <th>Reaction Type</th>\n",
       "      <th>Datetime</th>\n",
       "      <th>Unnamed: 0_y</th>\n",
       "      <th>User ID</th>\n",
       "      <th>Content Type</th>\n",
       "      <th>Category</th>\n",
       "      <th>Unnamed: 0</th>\n",
       "      <th>Sentiment</th>\n",
       "      <th>Score</th>\n",
       "    </tr>\n",
       "  </thead>\n",
       "  <tbody>\n",
       "    <tr>\n",
       "      <th>0</th>\n",
       "      <td>1</td>\n",
       "      <td>97522e57-d9ab-4bd6-97bf-c24d952602d2</td>\n",
       "      <td>disgust</td>\n",
       "      <td>2020-11-07 09:43:50</td>\n",
       "      <td>0</td>\n",
       "      <td>8d3cd87d-8a31-4935-9a4f-b319bfe05f31</td>\n",
       "      <td>photo</td>\n",
       "      <td>studying</td>\n",
       "      <td>2</td>\n",
       "      <td>negative</td>\n",
       "      <td>0</td>\n",
       "    </tr>\n",
       "    <tr>\n",
       "      <th>1</th>\n",
       "      <td>2</td>\n",
       "      <td>97522e57-d9ab-4bd6-97bf-c24d952602d2</td>\n",
       "      <td>dislike</td>\n",
       "      <td>2021-06-17 12:22:51</td>\n",
       "      <td>0</td>\n",
       "      <td>8d3cd87d-8a31-4935-9a4f-b319bfe05f31</td>\n",
       "      <td>photo</td>\n",
       "      <td>studying</td>\n",
       "      <td>11</td>\n",
       "      <td>negative</td>\n",
       "      <td>10</td>\n",
       "    </tr>\n",
       "  </tbody>\n",
       "</table>\n",
       "</div>"
      ],
      "text/plain": [
       "   Unnamed: 0_x                            Content ID Reaction Type  \\\n",
       "0             1  97522e57-d9ab-4bd6-97bf-c24d952602d2       disgust   \n",
       "1             2  97522e57-d9ab-4bd6-97bf-c24d952602d2       dislike   \n",
       "\n",
       "              Datetime  Unnamed: 0_y                               User ID  \\\n",
       "0  2020-11-07 09:43:50             0  8d3cd87d-8a31-4935-9a4f-b319bfe05f31   \n",
       "1  2021-06-17 12:22:51             0  8d3cd87d-8a31-4935-9a4f-b319bfe05f31   \n",
       "\n",
       "  Content Type  Category  Unnamed: 0 Sentiment  Score  \n",
       "0        photo  studying           2  negative      0  \n",
       "1        photo  studying          11  negative     10  "
      ]
     },
     "execution_count": 87,
     "metadata": {},
     "output_type": "execute_result"
    }
   ],
   "source": [
    "# Join the tables\n",
    "merged_df = reactions_cleaned.merge(content_cleaned, on=\"Content ID\", how=\"inner\")\n",
    "merged_df = merged_df.merge(reaction_types_cleaned, on=\"Reaction Type\", how=\"inner\")\n",
    "merged_df.head(2)"
   ]
  },
  {
   "cell_type": "code",
   "execution_count": 88,
   "id": "34cd13bf-a8e5-4625-a00d-c98c4336dc6c",
   "metadata": {},
   "outputs": [
    {
     "data": {
      "text/html": [
       "<div>\n",
       "<style scoped>\n",
       "    .dataframe tbody tr th:only-of-type {\n",
       "        vertical-align: middle;\n",
       "    }\n",
       "\n",
       "    .dataframe tbody tr th {\n",
       "        vertical-align: top;\n",
       "    }\n",
       "\n",
       "    .dataframe thead th {\n",
       "        text-align: right;\n",
       "    }\n",
       "</style>\n",
       "<table border=\"1\" class=\"dataframe\">\n",
       "  <thead>\n",
       "    <tr style=\"text-align: right;\">\n",
       "      <th></th>\n",
       "      <th>Content ID</th>\n",
       "      <th>Reaction Type</th>\n",
       "      <th>Datetime</th>\n",
       "      <th>User ID</th>\n",
       "      <th>Content Type</th>\n",
       "      <th>Category</th>\n",
       "      <th>Sentiment</th>\n",
       "      <th>Score</th>\n",
       "    </tr>\n",
       "  </thead>\n",
       "  <tbody>\n",
       "    <tr>\n",
       "      <th>0</th>\n",
       "      <td>97522e57-d9ab-4bd6-97bf-c24d952602d2</td>\n",
       "      <td>disgust</td>\n",
       "      <td>2020-11-07 09:43:50</td>\n",
       "      <td>8d3cd87d-8a31-4935-9a4f-b319bfe05f31</td>\n",
       "      <td>photo</td>\n",
       "      <td>studying</td>\n",
       "      <td>negative</td>\n",
       "      <td>0</td>\n",
       "    </tr>\n",
       "    <tr>\n",
       "      <th>1</th>\n",
       "      <td>97522e57-d9ab-4bd6-97bf-c24d952602d2</td>\n",
       "      <td>dislike</td>\n",
       "      <td>2021-06-17 12:22:51</td>\n",
       "      <td>8d3cd87d-8a31-4935-9a4f-b319bfe05f31</td>\n",
       "      <td>photo</td>\n",
       "      <td>studying</td>\n",
       "      <td>negative</td>\n",
       "      <td>10</td>\n",
       "    </tr>\n",
       "  </tbody>\n",
       "</table>\n",
       "</div>"
      ],
      "text/plain": [
       "                             Content ID Reaction Type             Datetime  \\\n",
       "0  97522e57-d9ab-4bd6-97bf-c24d952602d2       disgust  2020-11-07 09:43:50   \n",
       "1  97522e57-d9ab-4bd6-97bf-c24d952602d2       dislike  2021-06-17 12:22:51   \n",
       "\n",
       "                                User ID Content Type  Category Sentiment  \\\n",
       "0  8d3cd87d-8a31-4935-9a4f-b319bfe05f31        photo  studying  negative   \n",
       "1  8d3cd87d-8a31-4935-9a4f-b319bfe05f31        photo  studying  negative   \n",
       "\n",
       "   Score  \n",
       "0      0  \n",
       "1     10  "
      ]
     },
     "execution_count": 88,
     "metadata": {},
     "output_type": "execute_result"
    }
   ],
   "source": [
    "# Remove all 3 \"Unnamed\" columns\n",
    "merged_df = merged_df.drop(columns=[\"Unnamed: 0_x\", \"Unnamed: 0_y\", \"Unnamed: 0\"])\n",
    "merged_df.head(2)"
   ]
  },
  {
   "cell_type": "markdown",
   "id": "e8418877-c751-4f9b-858b-35b8c8f0f159",
   "metadata": {},
   "source": [
    "<br>\n",
    "\n",
    "***Aggregate Category Scores***"
   ]
  },
  {
   "cell_type": "code",
   "execution_count": 89,
   "id": "e24b4e7d-2520-4010-a6c8-f23bae3fc304",
   "metadata": {},
   "outputs": [
    {
     "data": {
      "text/html": [
       "<div>\n",
       "<style scoped>\n",
       "    .dataframe tbody tr th:only-of-type {\n",
       "        vertical-align: middle;\n",
       "    }\n",
       "\n",
       "    .dataframe tbody tr th {\n",
       "        vertical-align: top;\n",
       "    }\n",
       "\n",
       "    .dataframe thead th {\n",
       "        text-align: right;\n",
       "    }\n",
       "</style>\n",
       "<table border=\"1\" class=\"dataframe\">\n",
       "  <thead>\n",
       "    <tr style=\"text-align: right;\">\n",
       "      <th></th>\n",
       "      <th>Category</th>\n",
       "      <th>Score</th>\n",
       "    </tr>\n",
       "  </thead>\n",
       "  <tbody>\n",
       "    <tr>\n",
       "      <th>0</th>\n",
       "      <td>animals</td>\n",
       "      <td>74965</td>\n",
       "    </tr>\n",
       "    <tr>\n",
       "      <th>1</th>\n",
       "      <td>science</td>\n",
       "      <td>71168</td>\n",
       "    </tr>\n",
       "    <tr>\n",
       "      <th>2</th>\n",
       "      <td>healthy eating</td>\n",
       "      <td>69339</td>\n",
       "    </tr>\n",
       "    <tr>\n",
       "      <th>3</th>\n",
       "      <td>technology</td>\n",
       "      <td>68738</td>\n",
       "    </tr>\n",
       "    <tr>\n",
       "      <th>4</th>\n",
       "      <td>food</td>\n",
       "      <td>66676</td>\n",
       "    </tr>\n",
       "    <tr>\n",
       "      <th>5</th>\n",
       "      <td>culture</td>\n",
       "      <td>66579</td>\n",
       "    </tr>\n",
       "    <tr>\n",
       "      <th>6</th>\n",
       "      <td>travel</td>\n",
       "      <td>64880</td>\n",
       "    </tr>\n",
       "    <tr>\n",
       "      <th>7</th>\n",
       "      <td>cooking</td>\n",
       "      <td>64756</td>\n",
       "    </tr>\n",
       "    <tr>\n",
       "      <th>8</th>\n",
       "      <td>soccer</td>\n",
       "      <td>57783</td>\n",
       "    </tr>\n",
       "    <tr>\n",
       "      <th>9</th>\n",
       "      <td>education</td>\n",
       "      <td>57436</td>\n",
       "    </tr>\n",
       "    <tr>\n",
       "      <th>10</th>\n",
       "      <td>fitness</td>\n",
       "      <td>55323</td>\n",
       "    </tr>\n",
       "    <tr>\n",
       "      <th>11</th>\n",
       "      <td>studying</td>\n",
       "      <td>54269</td>\n",
       "    </tr>\n",
       "    <tr>\n",
       "      <th>12</th>\n",
       "      <td>dogs</td>\n",
       "      <td>52511</td>\n",
       "    </tr>\n",
       "    <tr>\n",
       "      <th>13</th>\n",
       "      <td>tennis</td>\n",
       "      <td>50339</td>\n",
       "    </tr>\n",
       "    <tr>\n",
       "      <th>14</th>\n",
       "      <td>veganism</td>\n",
       "      <td>49619</td>\n",
       "    </tr>\n",
       "    <tr>\n",
       "      <th>15</th>\n",
       "      <td>public speaking</td>\n",
       "      <td>49264</td>\n",
       "    </tr>\n",
       "  </tbody>\n",
       "</table>\n",
       "</div>"
      ],
      "text/plain": [
       "           Category  Score\n",
       "0           animals  74965\n",
       "1           science  71168\n",
       "2    healthy eating  69339\n",
       "3        technology  68738\n",
       "4              food  66676\n",
       "5           culture  66579\n",
       "6            travel  64880\n",
       "7           cooking  64756\n",
       "8            soccer  57783\n",
       "9         education  57436\n",
       "10          fitness  55323\n",
       "11         studying  54269\n",
       "12             dogs  52511\n",
       "13           tennis  50339\n",
       "14         veganism  49619\n",
       "15  public speaking  49264"
      ]
     },
     "execution_count": 89,
     "metadata": {},
     "output_type": "execute_result"
    }
   ],
   "source": [
    "# Sum the \"Scores\" for each \"Category\"\n",
    "category_score_sum = merged_df.groupby(\"Category\")[\"Score\"].sum().reset_index()\n",
    "category_score_sum = category_score_sum.sort_values(by=\"Score\", ascending=False).reset_index(drop=True)\n",
    "category_score_sum"
   ]
  },
  {
   "cell_type": "markdown",
   "id": "54f3a4d7-6df1-4aab-94ae-0edff9a0f4c1",
   "metadata": {},
   "source": [
    "***Rank Categories***"
   ]
  },
  {
   "cell_type": "code",
   "execution_count": 90,
   "id": "168597ba-d512-4fc9-a216-aa300a20ce72",
   "metadata": {},
   "outputs": [
    {
     "data": {
      "text/html": [
       "<div>\n",
       "<style scoped>\n",
       "    .dataframe tbody tr th:only-of-type {\n",
       "        vertical-align: middle;\n",
       "    }\n",
       "\n",
       "    .dataframe tbody tr th {\n",
       "        vertical-align: top;\n",
       "    }\n",
       "\n",
       "    .dataframe thead th {\n",
       "        text-align: right;\n",
       "    }\n",
       "</style>\n",
       "<table border=\"1\" class=\"dataframe\">\n",
       "  <thead>\n",
       "    <tr style=\"text-align: right;\">\n",
       "      <th></th>\n",
       "      <th>Category</th>\n",
       "      <th>Score</th>\n",
       "      <th>Rank</th>\n",
       "    </tr>\n",
       "  </thead>\n",
       "  <tbody>\n",
       "    <tr>\n",
       "      <th>0</th>\n",
       "      <td>animals</td>\n",
       "      <td>74965</td>\n",
       "      <td>1</td>\n",
       "    </tr>\n",
       "    <tr>\n",
       "      <th>1</th>\n",
       "      <td>science</td>\n",
       "      <td>71168</td>\n",
       "      <td>2</td>\n",
       "    </tr>\n",
       "    <tr>\n",
       "      <th>2</th>\n",
       "      <td>healthy eating</td>\n",
       "      <td>69339</td>\n",
       "      <td>3</td>\n",
       "    </tr>\n",
       "    <tr>\n",
       "      <th>3</th>\n",
       "      <td>technology</td>\n",
       "      <td>68738</td>\n",
       "      <td>4</td>\n",
       "    </tr>\n",
       "    <tr>\n",
       "      <th>4</th>\n",
       "      <td>food</td>\n",
       "      <td>66676</td>\n",
       "      <td>5</td>\n",
       "    </tr>\n",
       "    <tr>\n",
       "      <th>5</th>\n",
       "      <td>culture</td>\n",
       "      <td>66579</td>\n",
       "      <td>6</td>\n",
       "    </tr>\n",
       "    <tr>\n",
       "      <th>6</th>\n",
       "      <td>travel</td>\n",
       "      <td>64880</td>\n",
       "      <td>7</td>\n",
       "    </tr>\n",
       "    <tr>\n",
       "      <th>7</th>\n",
       "      <td>cooking</td>\n",
       "      <td>64756</td>\n",
       "      <td>8</td>\n",
       "    </tr>\n",
       "    <tr>\n",
       "      <th>8</th>\n",
       "      <td>soccer</td>\n",
       "      <td>57783</td>\n",
       "      <td>9</td>\n",
       "    </tr>\n",
       "    <tr>\n",
       "      <th>9</th>\n",
       "      <td>education</td>\n",
       "      <td>57436</td>\n",
       "      <td>10</td>\n",
       "    </tr>\n",
       "    <tr>\n",
       "      <th>10</th>\n",
       "      <td>fitness</td>\n",
       "      <td>55323</td>\n",
       "      <td>11</td>\n",
       "    </tr>\n",
       "    <tr>\n",
       "      <th>11</th>\n",
       "      <td>studying</td>\n",
       "      <td>54269</td>\n",
       "      <td>12</td>\n",
       "    </tr>\n",
       "    <tr>\n",
       "      <th>12</th>\n",
       "      <td>dogs</td>\n",
       "      <td>52511</td>\n",
       "      <td>13</td>\n",
       "    </tr>\n",
       "    <tr>\n",
       "      <th>13</th>\n",
       "      <td>tennis</td>\n",
       "      <td>50339</td>\n",
       "      <td>14</td>\n",
       "    </tr>\n",
       "    <tr>\n",
       "      <th>14</th>\n",
       "      <td>veganism</td>\n",
       "      <td>49619</td>\n",
       "      <td>15</td>\n",
       "    </tr>\n",
       "    <tr>\n",
       "      <th>15</th>\n",
       "      <td>public speaking</td>\n",
       "      <td>49264</td>\n",
       "      <td>16</td>\n",
       "    </tr>\n",
       "  </tbody>\n",
       "</table>\n",
       "</div>"
      ],
      "text/plain": [
       "           Category  Score  Rank\n",
       "0           animals  74965     1\n",
       "1           science  71168     2\n",
       "2    healthy eating  69339     3\n",
       "3        technology  68738     4\n",
       "4              food  66676     5\n",
       "5           culture  66579     6\n",
       "6            travel  64880     7\n",
       "7           cooking  64756     8\n",
       "8            soccer  57783     9\n",
       "9         education  57436    10\n",
       "10          fitness  55323    11\n",
       "11         studying  54269    12\n",
       "12             dogs  52511    13\n",
       "13           tennis  50339    14\n",
       "14         veganism  49619    15\n",
       "15  public speaking  49264    16"
      ]
     },
     "execution_count": 90,
     "metadata": {},
     "output_type": "execute_result"
    }
   ],
   "source": [
    "# Add a \"Rank\" column based on the \"Score\" in descending order\n",
    "category_score_sum[\"Rank\"] = category_score_sum[\"Score\"].rank(ascending=False, method=\"dense\").astype(int)\n",
    "\n",
    "# Display the result\n",
    "category_score_sum"
   ]
  },
  {
   "cell_type": "markdown",
   "id": "a552510d-bbae-44d4-82b8-0045fad6b023",
   "metadata": {},
   "source": [
    "***Join the New Columns to the `Merged_df` and order by `Rank`***"
   ]
  },
  {
   "cell_type": "code",
   "execution_count": 91,
   "id": "00f25ac5-8085-4a65-ae9e-447716a313a3",
   "metadata": {},
   "outputs": [
    {
     "data": {
      "text/html": [
       "<div>\n",
       "<style scoped>\n",
       "    .dataframe tbody tr th:only-of-type {\n",
       "        vertical-align: middle;\n",
       "    }\n",
       "\n",
       "    .dataframe tbody tr th {\n",
       "        vertical-align: top;\n",
       "    }\n",
       "\n",
       "    .dataframe thead th {\n",
       "        text-align: right;\n",
       "    }\n",
       "</style>\n",
       "<table border=\"1\" class=\"dataframe\">\n",
       "  <thead>\n",
       "    <tr style=\"text-align: right;\">\n",
       "      <th></th>\n",
       "      <th>Content ID</th>\n",
       "      <th>Reaction Type</th>\n",
       "      <th>Datetime</th>\n",
       "      <th>User ID</th>\n",
       "      <th>Content Type</th>\n",
       "      <th>Category</th>\n",
       "      <th>Sentiment</th>\n",
       "      <th>Score</th>\n",
       "      <th>Aggregate Score</th>\n",
       "      <th>Rank</th>\n",
       "    </tr>\n",
       "  </thead>\n",
       "  <tbody>\n",
       "    <tr>\n",
       "      <th>0</th>\n",
       "      <td>596a3ffe-1e2a-4999-bf8d-c8f4a8974343</td>\n",
       "      <td>want</td>\n",
       "      <td>2020-12-25 03:59:23</td>\n",
       "      <td>24789387-968b-425a-8836-14e243cda16c</td>\n",
       "      <td>video</td>\n",
       "      <td>animals</td>\n",
       "      <td>positive</td>\n",
       "      <td>70</td>\n",
       "      <td>74965</td>\n",
       "      <td>1</td>\n",
       "    </tr>\n",
       "    <tr>\n",
       "      <th>1</th>\n",
       "      <td>596a3ffe-1e2a-4999-bf8d-c8f4a8974343</td>\n",
       "      <td>want</td>\n",
       "      <td>2020-12-20 00:51:55</td>\n",
       "      <td>24789387-968b-425a-8836-14e243cda16c</td>\n",
       "      <td>video</td>\n",
       "      <td>animals</td>\n",
       "      <td>positive</td>\n",
       "      <td>70</td>\n",
       "      <td>74965</td>\n",
       "      <td>1</td>\n",
       "    </tr>\n",
       "  </tbody>\n",
       "</table>\n",
       "</div>"
      ],
      "text/plain": [
       "                             Content ID Reaction Type             Datetime  \\\n",
       "0  596a3ffe-1e2a-4999-bf8d-c8f4a8974343          want  2020-12-25 03:59:23   \n",
       "1  596a3ffe-1e2a-4999-bf8d-c8f4a8974343          want  2020-12-20 00:51:55   \n",
       "\n",
       "                                User ID Content Type Category Sentiment  \\\n",
       "0  24789387-968b-425a-8836-14e243cda16c        video  animals  positive   \n",
       "1  24789387-968b-425a-8836-14e243cda16c        video  animals  positive   \n",
       "\n",
       "   Score  Aggregate Score  Rank  \n",
       "0     70            74965     1  \n",
       "1     70            74965     1  "
      ]
     },
     "execution_count": 91,
     "metadata": {},
     "output_type": "execute_result"
    }
   ],
   "source": [
    "# Rename the \"Score\" column to \"Aggregate Score\"\n",
    "category_score_sum = category_score_sum.rename(columns={\"Score\": \"Aggregate Score\"})\n",
    "\n",
    "# Merge the summed scores back into merged_df on the \"Category\" column\n",
    "merged_df = merged_df.merge(category_score_sum, on=\"Category\", how=\"left\")\n",
    "\n",
    "# Reorder the dataset based on the \"Rank\" column\n",
    "merged_df = merged_df.sort_values(by=\"Rank\").reset_index(drop=True)\n",
    "\n",
    "# Display the updated DataFrame\n",
    "merged_df.head(2)"
   ]
  },
  {
   "cell_type": "markdown",
   "id": "b3782194-ba98-44ae-819b-17703474d120",
   "metadata": {},
   "source": [
    "<br>\n",
    "\n",
    "# **Top 5**"
   ]
  },
  {
   "cell_type": "code",
   "execution_count": 109,
   "id": "c8cb17f5-5785-4c14-9360-0acabf5ad928",
   "metadata": {},
   "outputs": [
    {
     "data": {
      "text/html": [
       "<div>\n",
       "<style scoped>\n",
       "    .dataframe tbody tr th:only-of-type {\n",
       "        vertical-align: middle;\n",
       "    }\n",
       "\n",
       "    .dataframe tbody tr th {\n",
       "        vertical-align: top;\n",
       "    }\n",
       "\n",
       "    .dataframe thead th {\n",
       "        text-align: right;\n",
       "    }\n",
       "</style>\n",
       "<table border=\"1\" class=\"dataframe\">\n",
       "  <thead>\n",
       "    <tr style=\"text-align: right;\">\n",
       "      <th></th>\n",
       "      <th>Category</th>\n",
       "      <th>Aggregate Score</th>\n",
       "      <th>Rank</th>\n",
       "    </tr>\n",
       "  </thead>\n",
       "  <tbody>\n",
       "    <tr>\n",
       "      <th>0</th>\n",
       "      <td>animals</td>\n",
       "      <td>74965</td>\n",
       "      <td>1</td>\n",
       "    </tr>\n",
       "    <tr>\n",
       "      <th>1</th>\n",
       "      <td>science</td>\n",
       "      <td>71168</td>\n",
       "      <td>2</td>\n",
       "    </tr>\n",
       "    <tr>\n",
       "      <th>2</th>\n",
       "      <td>healthy eating</td>\n",
       "      <td>69339</td>\n",
       "      <td>3</td>\n",
       "    </tr>\n",
       "    <tr>\n",
       "      <th>3</th>\n",
       "      <td>technology</td>\n",
       "      <td>68738</td>\n",
       "      <td>4</td>\n",
       "    </tr>\n",
       "    <tr>\n",
       "      <th>4</th>\n",
       "      <td>food</td>\n",
       "      <td>66676</td>\n",
       "      <td>5</td>\n",
       "    </tr>\n",
       "  </tbody>\n",
       "</table>\n",
       "</div>"
      ],
      "text/plain": [
       "         Category  Aggregate Score  Rank\n",
       "0         animals            74965     1\n",
       "1         science            71168     2\n",
       "2  healthy eating            69339     3\n",
       "3      technology            68738     4\n",
       "4            food            66676     5"
      ]
     },
     "execution_count": 109,
     "metadata": {},
     "output_type": "execute_result"
    }
   ],
   "source": [
    "top_5_df = category_score_sum[category_score_sum[\"Rank\"] <= 5]\n",
    "top_5_df"
   ]
  },
  {
   "cell_type": "markdown",
   "id": "74c54de1-0751-4c9a-bbba-30d83e9f16c0",
   "metadata": {},
   "source": [
    "<br>\n",
    "\n",
    "# **Download CSV File & Begin Tableau Analysis**"
   ]
  },
  {
   "cell_type": "code",
   "execution_count": 108,
   "id": "63671f42-3afe-4439-9110-e0148c09fdd3",
   "metadata": {},
   "outputs": [],
   "source": [
    "# Export 'ranked_df' to a CSV file\n",
    "merged_df.to_csv(\"SocialBuzz_Ready.csv\", index=True)"
   ]
  }
 ],
 "metadata": {
  "kernelspec": {
   "display_name": "Python 3 (ipykernel)",
   "language": "python",
   "name": "python3"
  },
  "language_info": {
   "codemirror_mode": {
    "name": "ipython",
    "version": 3
   },
   "file_extension": ".py",
   "mimetype": "text/x-python",
   "name": "python",
   "nbconvert_exporter": "python",
   "pygments_lexer": "ipython3",
   "version": "3.12.4"
  }
 },
 "nbformat": 4,
 "nbformat_minor": 5
}
