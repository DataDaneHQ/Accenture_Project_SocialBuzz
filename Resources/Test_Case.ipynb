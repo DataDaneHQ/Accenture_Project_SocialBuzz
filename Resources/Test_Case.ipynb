{
 "cells": [
  {
   "cell_type": "markdown",
   "id": "5f4bdab6-21f1-4d23-b721-fdf7b4244024",
   "metadata": {},
   "source": [
    "# **Testing My Hypothesis**\n",
    "\n",
    "Now, we know that the sample data tracks reactions per piece of content, but can we actually determine the number of posts uploaded each month? Let's explore.\n",
    "\n",
    "At first, it seemed straightforward to determine monthly post volume by counting unique 'Content IDs' each month. January initially appeared to have the highest volume, which fit with users likely reconnecting after the holidays. However, the values on the Tableau heatmap didn’t add up as expected.\n",
    "\n",
    "Closer examination showed only 962 unique content IDs in total, but with an average of 733 unique IDs per month, resulting in an annual total that exceeded the dataset’s unique IDs — a clear indication of discrepancies. This led to a deeper investigation here using Python, with two main hypotheses to explore."
   ]
  },
  {
   "cell_type": "markdown",
   "id": "2c82ec41-e565-4508-aed5-c74124b78212",
   "metadata": {},
   "source": [
    "<br>\n",
    "\n",
    "### **Import Datasets**"
   ]
  },
  {
   "cell_type": "code",
   "execution_count": 56,
   "id": "a0c7b43d-9aae-4c9a-be9d-99fbbc2702bf",
   "metadata": {},
   "outputs": [],
   "source": [
    "import pandas as pd"
   ]
  },
  {
   "cell_type": "code",
   "execution_count": 81,
   "id": "27ea790c-eede-47db-98ef-384466aac87d",
   "metadata": {},
   "outputs": [],
   "source": [
    "rdf = pd.read_csv(\"Reactions.csv\")\n",
    "cdf = pd.read_csv(\"Content.csv\")\n",
    "rtdf = pd.read_csv(\"ReactionTypes.csv\")"
   ]
  },
  {
   "cell_type": "markdown",
   "id": "247ce281-9877-444c-a2e1-73ffa2579d14",
   "metadata": {},
   "source": [
    "<br>\n",
    "\n",
    "### **Apply Original Cleaning and Merge Data**\n",
    "\n",
    "***But*** do not remove blank rows from the `\"Reaction Type\"` column."
   ]
  },
  {
   "cell_type": "code",
   "execution_count": 82,
   "id": "846db9a2-b0dd-4115-8907-19d0afe88b1d",
   "metadata": {},
   "outputs": [
    {
     "data": {
      "text/html": [
       "<div>\n",
       "<style scoped>\n",
       "    .dataframe tbody tr th:only-of-type {\n",
       "        vertical-align: middle;\n",
       "    }\n",
       "\n",
       "    .dataframe tbody tr th {\n",
       "        vertical-align: top;\n",
       "    }\n",
       "\n",
       "    .dataframe thead th {\n",
       "        text-align: right;\n",
       "    }\n",
       "</style>\n",
       "<table border=\"1\" class=\"dataframe\">\n",
       "  <thead>\n",
       "    <tr style=\"text-align: right;\">\n",
       "      <th></th>\n",
       "      <th>Unnamed: 0</th>\n",
       "      <th>Content ID</th>\n",
       "      <th>User ID</th>\n",
       "      <th>Reaction Type</th>\n",
       "      <th>Datetime</th>\n",
       "    </tr>\n",
       "  </thead>\n",
       "  <tbody>\n",
       "    <tr>\n",
       "      <th>0</th>\n",
       "      <td>0</td>\n",
       "      <td>97522e57-d9ab-4bd6-97bf-c24d952602d2</td>\n",
       "      <td>NaN</td>\n",
       "      <td>NaN</td>\n",
       "      <td>2021-04-22 15:17:15</td>\n",
       "    </tr>\n",
       "  </tbody>\n",
       "</table>\n",
       "</div>"
      ],
      "text/plain": [
       "   Unnamed: 0                            Content ID User ID Reaction Type  \\\n",
       "0           0  97522e57-d9ab-4bd6-97bf-c24d952602d2     NaN           NaN   \n",
       "\n",
       "              Datetime  \n",
       "0  2021-04-22 15:17:15  "
      ]
     },
     "execution_count": 82,
     "metadata": {},
     "output_type": "execute_result"
    }
   ],
   "source": [
    "# Rename \"Type\" column to \"Reaction Type\"\n",
    "rdf = rdf.rename(columns={\"Type\": \"Reaction Type\"})\n",
    "rdf.head(1)"
   ]
  },
  {
   "cell_type": "code",
   "execution_count": 83,
   "id": "1c3a8e52-6e2d-4300-b8c7-44bfd5ff3e0a",
   "metadata": {},
   "outputs": [
    {
     "data": {
      "text/html": [
       "<div>\n",
       "<style scoped>\n",
       "    .dataframe tbody tr th:only-of-type {\n",
       "        vertical-align: middle;\n",
       "    }\n",
       "\n",
       "    .dataframe tbody tr th {\n",
       "        vertical-align: top;\n",
       "    }\n",
       "\n",
       "    .dataframe thead th {\n",
       "        text-align: right;\n",
       "    }\n",
       "</style>\n",
       "<table border=\"1\" class=\"dataframe\">\n",
       "  <thead>\n",
       "    <tr style=\"text-align: right;\">\n",
       "      <th></th>\n",
       "      <th>Unnamed: 0</th>\n",
       "      <th>Content ID</th>\n",
       "      <th>User ID</th>\n",
       "      <th>Content Type</th>\n",
       "      <th>Category</th>\n",
       "      <th>URL</th>\n",
       "    </tr>\n",
       "  </thead>\n",
       "  <tbody>\n",
       "    <tr>\n",
       "      <th>0</th>\n",
       "      <td>0</td>\n",
       "      <td>97522e57-d9ab-4bd6-97bf-c24d952602d2</td>\n",
       "      <td>8d3cd87d-8a31-4935-9a4f-b319bfe05f31</td>\n",
       "      <td>photo</td>\n",
       "      <td>Studying</td>\n",
       "      <td>https://socialbuzz.cdn.com/content/storage/975...</td>\n",
       "    </tr>\n",
       "  </tbody>\n",
       "</table>\n",
       "</div>"
      ],
      "text/plain": [
       "   Unnamed: 0                            Content ID  \\\n",
       "0           0  97522e57-d9ab-4bd6-97bf-c24d952602d2   \n",
       "\n",
       "                                User ID Content Type  Category  \\\n",
       "0  8d3cd87d-8a31-4935-9a4f-b319bfe05f31        photo  Studying   \n",
       "\n",
       "                                                 URL  \n",
       "0  https://socialbuzz.cdn.com/content/storage/975...  "
      ]
     },
     "execution_count": 83,
     "metadata": {},
     "output_type": "execute_result"
    }
   ],
   "source": [
    "# Rename \"Type\" column to \"Content Type\"\n",
    "cdf = cdf.rename(columns={\"Type\": \"Content Type\"})\n",
    "cdf.head(1)"
   ]
  },
  {
   "cell_type": "code",
   "execution_count": 84,
   "id": "e8c6adc7-1eed-4270-a69a-aa6e1486028f",
   "metadata": {},
   "outputs": [
    {
     "data": {
      "text/html": [
       "<div>\n",
       "<style scoped>\n",
       "    .dataframe tbody tr th:only-of-type {\n",
       "        vertical-align: middle;\n",
       "    }\n",
       "\n",
       "    .dataframe tbody tr th {\n",
       "        vertical-align: top;\n",
       "    }\n",
       "\n",
       "    .dataframe thead th {\n",
       "        text-align: right;\n",
       "    }\n",
       "</style>\n",
       "<table border=\"1\" class=\"dataframe\">\n",
       "  <thead>\n",
       "    <tr style=\"text-align: right;\">\n",
       "      <th></th>\n",
       "      <th>Unnamed: 0</th>\n",
       "      <th>Reaction Type</th>\n",
       "      <th>Sentiment</th>\n",
       "      <th>Score</th>\n",
       "    </tr>\n",
       "  </thead>\n",
       "  <tbody>\n",
       "    <tr>\n",
       "      <th>0</th>\n",
       "      <td>0</td>\n",
       "      <td>heart</td>\n",
       "      <td>positive</td>\n",
       "      <td>60</td>\n",
       "    </tr>\n",
       "  </tbody>\n",
       "</table>\n",
       "</div>"
      ],
      "text/plain": [
       "   Unnamed: 0 Reaction Type Sentiment  Score\n",
       "0           0         heart  positive     60"
      ]
     },
     "execution_count": 84,
     "metadata": {},
     "output_type": "execute_result"
    }
   ],
   "source": [
    "# Rename \"Type\" column to \"Reaction Type\"\n",
    "rtdf = rtdf.rename(columns={\"Type\": \"Reaction Type\"})\n",
    "rtdf.head(1)"
   ]
  },
  {
   "cell_type": "code",
   "execution_count": 85,
   "id": "4054c4e8-6c18-470f-bc46-f9b4fbe2e9b3",
   "metadata": {},
   "outputs": [
    {
     "data": {
      "text/plain": [
       "Unnamed: 0                int64\n",
       "Content ID               object\n",
       "User ID                  object\n",
       "Reaction Type            object\n",
       "Datetime         datetime64[ns]\n",
       "dtype: object"
      ]
     },
     "execution_count": 85,
     "metadata": {},
     "output_type": "execute_result"
    }
   ],
   "source": [
    "# Convert to datetime, matching the actual format\n",
    "rdf['Datetime'] = pd.to_datetime(rdf['Datetime'], format='%Y-%m-%d %H:%M:%S', errors='coerce')\n",
    "\n",
    "# Convert to datetime without specifying format\n",
    "rdf['Datetime'] = pd.to_datetime(rdf['Datetime'], errors='coerce')\n",
    "\n",
    "# Confirm changes\n",
    "rdf.dtypes"
   ]
  },
  {
   "cell_type": "code",
   "execution_count": 86,
   "id": "fc11802b-aba5-4849-99ae-96a33ebb211b",
   "metadata": {},
   "outputs": [],
   "source": [
    "# Drop \"User ID\" and \"URL\" columns\n",
    "rdf = rdf.drop(columns=['User ID'])\n",
    "cdf = cdf.drop(columns=['User ID'])\n",
    "cdf = cdf.drop(columns=['URL'])"
   ]
  },
  {
   "cell_type": "code",
   "execution_count": 87,
   "id": "dedd55f6-02a4-4bf6-b58b-e4f1a411ff15",
   "metadata": {},
   "outputs": [
    {
     "data": {
      "text/plain": [
       "array(['studying', 'healthy eating', 'technology', 'food', 'cooking',\n",
       "       'dogs', 'soccer', 'public speaking', 'science', 'tennis', 'travel',\n",
       "       'fitness', 'education', 'veganism', 'animals', 'culture'],\n",
       "      dtype=object)"
      ]
     },
     "execution_count": 87,
     "metadata": {},
     "output_type": "execute_result"
    }
   ],
   "source": [
    "# Remove the quotation marks and convert all text to lowercase\n",
    "cdf['Category'] = cdf['Category'].str.replace('\"', '', regex=False)\n",
    "cdf[\"Category\"] = cdf[\"Category\"].str.lower()\n",
    "cdf['Category'].unique()"
   ]
  },
  {
   "cell_type": "markdown",
   "id": "140434a7-d006-451f-b164-1ae9a0befd1b",
   "metadata": {},
   "source": [
    "<br>\n",
    "\n",
    "### **Merge Datasets & Conduct Additional Cleaning**"
   ]
  },
  {
   "cell_type": "code",
   "execution_count": 88,
   "id": "67722f65-23df-4501-9850-384dcdb4e152",
   "metadata": {},
   "outputs": [
    {
     "data": {
      "text/html": [
       "<div>\n",
       "<style scoped>\n",
       "    .dataframe tbody tr th:only-of-type {\n",
       "        vertical-align: middle;\n",
       "    }\n",
       "\n",
       "    .dataframe tbody tr th {\n",
       "        vertical-align: top;\n",
       "    }\n",
       "\n",
       "    .dataframe thead th {\n",
       "        text-align: right;\n",
       "    }\n",
       "</style>\n",
       "<table border=\"1\" class=\"dataframe\">\n",
       "  <thead>\n",
       "    <tr style=\"text-align: right;\">\n",
       "      <th></th>\n",
       "      <th>Unnamed: 0_x</th>\n",
       "      <th>Content ID</th>\n",
       "      <th>Reaction Type</th>\n",
       "      <th>Datetime</th>\n",
       "      <th>Unnamed: 0_y</th>\n",
       "      <th>Content Type</th>\n",
       "      <th>Category</th>\n",
       "      <th>Unnamed: 0</th>\n",
       "      <th>Sentiment</th>\n",
       "      <th>Score</th>\n",
       "    </tr>\n",
       "  </thead>\n",
       "  <tbody>\n",
       "    <tr>\n",
       "      <th>0</th>\n",
       "      <td>15950.0</td>\n",
       "      <td>00d0cdf9-5919-4102-bf84-ebde253c3cd2</td>\n",
       "      <td>adore</td>\n",
       "      <td>2020-09-25 19:56:00</td>\n",
       "      <td>617</td>\n",
       "      <td>audio</td>\n",
       "      <td>healthy eating</td>\n",
       "      <td>9.0</td>\n",
       "      <td>positive</td>\n",
       "      <td>72.0</td>\n",
       "    </tr>\n",
       "    <tr>\n",
       "      <th>1</th>\n",
       "      <td>15956.0</td>\n",
       "      <td>00d0cdf9-5919-4102-bf84-ebde253c3cd2</td>\n",
       "      <td>adore</td>\n",
       "      <td>2020-07-20 08:41:41</td>\n",
       "      <td>617</td>\n",
       "      <td>audio</td>\n",
       "      <td>healthy eating</td>\n",
       "      <td>9.0</td>\n",
       "      <td>positive</td>\n",
       "      <td>72.0</td>\n",
       "    </tr>\n",
       "  </tbody>\n",
       "</table>\n",
       "</div>"
      ],
      "text/plain": [
       "   Unnamed: 0_x                            Content ID Reaction Type  \\\n",
       "0       15950.0  00d0cdf9-5919-4102-bf84-ebde253c3cd2         adore   \n",
       "1       15956.0  00d0cdf9-5919-4102-bf84-ebde253c3cd2         adore   \n",
       "\n",
       "             Datetime  Unnamed: 0_y Content Type        Category  Unnamed: 0  \\\n",
       "0 2020-09-25 19:56:00           617        audio  healthy eating         9.0   \n",
       "1 2020-07-20 08:41:41           617        audio  healthy eating         9.0   \n",
       "\n",
       "  Sentiment  Score  \n",
       "0  positive   72.0  \n",
       "1  positive   72.0  "
      ]
     },
     "execution_count": 88,
     "metadata": {},
     "output_type": "execute_result"
    }
   ],
   "source": [
    "# Merge with outer join to include all rows from both DataFrames\n",
    "test_df = rdf.merge(cdf, on=\"Content ID\", how=\"outer\")\n",
    "test_df = test_df.merge(rtdf, on=\"Reaction Type\", how=\"outer\")\n",
    "test_df.head(2)"
   ]
  },
  {
   "cell_type": "code",
   "execution_count": 89,
   "id": "2083a360-e543-4dc6-b5c7-106b63a4750c",
   "metadata": {},
   "outputs": [
    {
     "data": {
      "text/html": [
       "<div>\n",
       "<style scoped>\n",
       "    .dataframe tbody tr th:only-of-type {\n",
       "        vertical-align: middle;\n",
       "    }\n",
       "\n",
       "    .dataframe tbody tr th {\n",
       "        vertical-align: top;\n",
       "    }\n",
       "\n",
       "    .dataframe thead th {\n",
       "        text-align: right;\n",
       "    }\n",
       "</style>\n",
       "<table border=\"1\" class=\"dataframe\">\n",
       "  <thead>\n",
       "    <tr style=\"text-align: right;\">\n",
       "      <th></th>\n",
       "      <th>Content ID</th>\n",
       "      <th>Reaction Type</th>\n",
       "      <th>Datetime</th>\n",
       "      <th>Content Type</th>\n",
       "      <th>Category</th>\n",
       "      <th>Sentiment</th>\n",
       "      <th>Score</th>\n",
       "    </tr>\n",
       "  </thead>\n",
       "  <tbody>\n",
       "    <tr>\n",
       "      <th>0</th>\n",
       "      <td>00d0cdf9-5919-4102-bf84-ebde253c3cd2</td>\n",
       "      <td>adore</td>\n",
       "      <td>2020-09-25 19:56:00</td>\n",
       "      <td>audio</td>\n",
       "      <td>healthy eating</td>\n",
       "      <td>positive</td>\n",
       "      <td>72.0</td>\n",
       "    </tr>\n",
       "    <tr>\n",
       "      <th>1</th>\n",
       "      <td>00d0cdf9-5919-4102-bf84-ebde253c3cd2</td>\n",
       "      <td>adore</td>\n",
       "      <td>2020-07-20 08:41:41</td>\n",
       "      <td>audio</td>\n",
       "      <td>healthy eating</td>\n",
       "      <td>positive</td>\n",
       "      <td>72.0</td>\n",
       "    </tr>\n",
       "  </tbody>\n",
       "</table>\n",
       "</div>"
      ],
      "text/plain": [
       "                             Content ID Reaction Type            Datetime  \\\n",
       "0  00d0cdf9-5919-4102-bf84-ebde253c3cd2         adore 2020-09-25 19:56:00   \n",
       "1  00d0cdf9-5919-4102-bf84-ebde253c3cd2         adore 2020-07-20 08:41:41   \n",
       "\n",
       "  Content Type        Category Sentiment  Score  \n",
       "0        audio  healthy eating  positive   72.0  \n",
       "1        audio  healthy eating  positive   72.0  "
      ]
     },
     "execution_count": 89,
     "metadata": {},
     "output_type": "execute_result"
    }
   ],
   "source": [
    "# Remove all 3 \"Unnamed\" columns\n",
    "test_df = test_df.drop(columns=[\"Unnamed: 0_x\", \"Unnamed: 0_y\", \"Unnamed: 0\"])\n",
    "test_df.head(2)"
   ]
  },
  {
   "cell_type": "code",
   "execution_count": 90,
   "id": "9b920bf7-4ac1-49ac-985a-6130cec5b85c",
   "metadata": {},
   "outputs": [
    {
     "data": {
      "text/plain": [
       "Content ID          0\n",
       "Reaction Type    1000\n",
       "Datetime           20\n",
       "Content Type        0\n",
       "Category            0\n",
       "Sentiment        1000\n",
       "Score            1000\n",
       "dtype: int64"
      ]
     },
     "execution_count": 90,
     "metadata": {},
     "output_type": "execute_result"
    }
   ],
   "source": [
    "# Inspect for null values\n",
    "test_df.isnull().sum()"
   ]
  },
  {
   "cell_type": "code",
   "execution_count": 91,
   "id": "b41559c5-2830-405e-9273-d4430b1bb64b",
   "metadata": {},
   "outputs": [],
   "source": [
    "# Remove all rows with blank values in the \"Datetime\" column\n",
    "test_df.dropna(subset=[\"Datetime\"], inplace=True)"
   ]
  },
  {
   "cell_type": "code",
   "execution_count": 92,
   "id": "6066ebd4-4a67-431f-8428-d71cb313871b",
   "metadata": {},
   "outputs": [
    {
     "name": "stdout",
     "output_type": "stream",
     "text": [
      "Total Rows | 25553\n"
     ]
    },
    {
     "data": {
      "text/plain": [
       "Content ID         0\n",
       "Reaction Type    980\n",
       "Datetime           0\n",
       "Content Type       0\n",
       "Category           0\n",
       "Sentiment        980\n",
       "Score            980\n",
       "dtype: int64"
      ]
     },
     "execution_count": 92,
     "metadata": {},
     "output_type": "execute_result"
    }
   ],
   "source": [
    "# Inspect null values again\n",
    "print(f\"Total Rows | {test_df.shape[0]}\")\n",
    "test_df.isnull().sum()"
   ]
  },
  {
   "cell_type": "markdown",
   "id": "8a30e522-8e95-49d8-9066-463f6404fce1",
   "metadata": {},
   "source": [
    "<br>\n",
    "\n",
    "# **Begin Test**"
   ]
  },
  {
   "cell_type": "markdown",
   "id": "f0a760b3-4f30-4b07-a107-7f82b68537d4",
   "metadata": {},
   "source": [
    "There are two phases to this. Now that we have a clean dataset that includes the 980 rows removed from the previous analysis, let's check if these rows represent the original upload dates for each piece of content. If we cannot confirm this hypothesis, we will then investigate the hypothesis that each `\"Content ID\"` does not at any point, represent data of content being generated and posted, but rather indicates posts that have been reacted to, and therefore can occur multiple times across different months.\n",
    "\n",
    "### **Phase 1:**\n",
    "\n",
    "***1***- Confirm the number of unique `\"Content ID\"`'s matches the number of rows with blanks in the `\"Reaction Type\"` column.\n",
    "\n",
    "***2***- Retrieve and display the first chronological occurrence of each unique `\"Content ID\"` in the dataset, sorted by date and time.\n",
    "* If this hypothesis is correct the first occurrence of each unique `\"Content ID\"` should have a blank value in the `\"Reaction Type\"`, `\"Sentiment\"`, and `\"Score\"` columns.\n",
    "* If not then we move onto the next phase."
   ]
  },
  {
   "cell_type": "code",
   "execution_count": 93,
   "id": "fb787b54-8fc3-48f0-906c-395b67ccd599",
   "metadata": {},
   "outputs": [
    {
     "name": "stdout",
     "output_type": "stream",
     "text": [
      "Number of Unique Content ID's | 980\n"
     ]
    }
   ],
   "source": [
    "# Confirm the number of unique \"Content ID\" values\n",
    "print(f\"Number of Unique Content ID's | {test_df['Content ID'].nunique()}\")"
   ]
  },
  {
   "cell_type": "code",
   "execution_count": 94,
   "id": "a352eaa4-3c15-4303-88d3-7b71055e7e74",
   "metadata": {},
   "outputs": [
    {
     "name": "stdout",
     "output_type": "stream",
     "text": [
      "Number of First Occurrences | 980\n"
     ]
    },
    {
     "data": {
      "text/html": [
       "<div>\n",
       "<style scoped>\n",
       "    .dataframe tbody tr th:only-of-type {\n",
       "        vertical-align: middle;\n",
       "    }\n",
       "\n",
       "    .dataframe tbody tr th {\n",
       "        vertical-align: top;\n",
       "    }\n",
       "\n",
       "    .dataframe thead th {\n",
       "        text-align: right;\n",
       "    }\n",
       "</style>\n",
       "<table border=\"1\" class=\"dataframe\">\n",
       "  <thead>\n",
       "    <tr style=\"text-align: right;\">\n",
       "      <th></th>\n",
       "      <th>Content ID</th>\n",
       "      <th>Reaction Type</th>\n",
       "      <th>Datetime</th>\n",
       "      <th>Content Type</th>\n",
       "      <th>Category</th>\n",
       "      <th>Sentiment</th>\n",
       "      <th>Score</th>\n",
       "    </tr>\n",
       "  </thead>\n",
       "  <tbody>\n",
       "    <tr>\n",
       "      <th>0</th>\n",
       "      <td>fada6910-2cc5-4600-808c-1e6066f795a6</td>\n",
       "      <td>cherish</td>\n",
       "      <td>2020-06-18 07:59:17</td>\n",
       "      <td>GIF</td>\n",
       "      <td>technology</td>\n",
       "      <td>positive</td>\n",
       "      <td>70.0</td>\n",
       "    </tr>\n",
       "    <tr>\n",
       "      <th>1</th>\n",
       "      <td>a727ed7f-5684-4536-b543-8e8fc93f40b1</td>\n",
       "      <td>hate</td>\n",
       "      <td>2020-06-18 08:07:22</td>\n",
       "      <td>video</td>\n",
       "      <td>cooking</td>\n",
       "      <td>negative</td>\n",
       "      <td>5.0</td>\n",
       "    </tr>\n",
       "  </tbody>\n",
       "</table>\n",
       "</div>"
      ],
      "text/plain": [
       "                             Content ID Reaction Type            Datetime  \\\n",
       "0  fada6910-2cc5-4600-808c-1e6066f795a6       cherish 2020-06-18 07:59:17   \n",
       "1  a727ed7f-5684-4536-b543-8e8fc93f40b1          hate 2020-06-18 08:07:22   \n",
       "\n",
       "  Content Type    Category Sentiment  Score  \n",
       "0          GIF  technology  positive   70.0  \n",
       "1        video     cooking  negative    5.0  "
      ]
     },
     "execution_count": 94,
     "metadata": {},
     "output_type": "execute_result"
    }
   ],
   "source": [
    "# Sort the DataFrame by \"Datetime\" in ascending order\n",
    "test_df_sorted = test_df.sort_values(by=\"Datetime\")\n",
    "\n",
    "# Group by \"Content ID\" and get the first occurrence based on the sorted Datetime\n",
    "first_occurrences = test_df_sorted.groupby(\"Content ID\").first().reset_index()\n",
    "\n",
    "# Sort first_occurrences by \"Datetime\" in ascending order\n",
    "first_occurrences = first_occurrences.sort_values(by=\"Datetime\").reset_index(drop=True)\n",
    "\n",
    "# Display the sorted result\n",
    "print(f\"Number of First Occurrences | {first_occurrences['Content ID'].nunique()}\")\n",
    "first_occurrences.head(2)"
   ]
  },
  {
   "cell_type": "code",
   "execution_count": 95,
   "id": "5f3c3830-4d6c-487d-afa9-64bdfebc834b",
   "metadata": {},
   "outputs": [
    {
     "data": {
      "text/plain": [
       "Content ID        0\n",
       "Reaction Type    18\n",
       "Datetime          0\n",
       "Content Type      0\n",
       "Category          0\n",
       "Sentiment        18\n",
       "Score            18\n",
       "dtype: int64"
      ]
     },
     "execution_count": 95,
     "metadata": {},
     "output_type": "execute_result"
    }
   ],
   "source": [
    "#Calculate the number of null values in the first occurrences\n",
    "first_occurrences.isnull().sum()"
   ]
  },
  {
   "cell_type": "code",
   "execution_count": 96,
   "id": "c4a704d9-8a94-47e5-84bb-e61236fc8e05",
   "metadata": {},
   "outputs": [
    {
     "name": "stdout",
     "output_type": "stream",
     "text": [
      "Number of First Occurrences | 962\n"
     ]
    },
    {
     "data": {
      "text/plain": [
       "Content ID       0\n",
       "Reaction Type    0\n",
       "Datetime         0\n",
       "Content Type     0\n",
       "Category         0\n",
       "Sentiment        0\n",
       "Score            0\n",
       "dtype: int64"
      ]
     },
     "execution_count": 96,
     "metadata": {},
     "output_type": "execute_result"
    }
   ],
   "source": [
    "# Drop null values and confirm changes\n",
    "first_occurrences.dropna(inplace=True)\n",
    "print(f\"Number of First Occurrences | {first_occurrences['Content ID'].nunique()}\")\n",
    "first_occurrences.isnull().sum()"
   ]
  },
  {
   "cell_type": "code",
   "execution_count": 97,
   "id": "098d1ce1-73d3-47d5-8a2b-00374bb36a84",
   "metadata": {},
   "outputs": [
    {
     "name": "stdout",
     "output_type": "stream",
     "text": [
      "First occurrence of each \"Content ID\" has a blank \"Reaction Type\": False\n"
     ]
    }
   ],
   "source": [
    "# Check if the \"Reaction Type\" in the first occurrence is blank\n",
    "has_blank_reaction = first_occurrences[\"Reaction Type\"].isnull()\n",
    "\n",
    "# Determine if all first occurrences have a blank \"Reaction Type\"\n",
    "all_first_blank = has_blank_reaction.all()\n",
    "\n",
    "# Output the result\n",
    "print(f'First occurrence of each \"Content ID\" has a blank \"Reaction Type\": {all_first_blank}')"
   ]
  },
  {
   "cell_type": "markdown",
   "id": "b6933d90-74f8-4179-b2d9-165608e28725",
   "metadata": {},
   "source": [
    "***We `Reject` this hypothesis as 962 of the 980 first occurrences of each unique \"Content ID\" `HAS` a value in the \"Reaction Type\" column.  This means the `blank rows DO NOT represent the upload dates` of each piece of content.***\n",
    "\n",
    "### **Phase 2**\n",
    "\n",
    "***1***- Drop all blank rows and proceed with testing on the dataset equivalent to the previous analysis.\n",
    "\n",
    "***2***- Take a random unique `\"Content ID\"` and see how many times across how many months this appears. \n",
    "\n",
    "***3***- Retrieve the average amount of times a piece of content appears each month. "
   ]
  },
  {
   "cell_type": "code",
   "execution_count": 98,
   "id": "f0686f14-11cd-488c-9b53-bf44ef248a5f",
   "metadata": {},
   "outputs": [
    {
     "data": {
      "text/plain": [
       "Content ID       0\n",
       "Reaction Type    0\n",
       "Datetime         0\n",
       "Content Type     0\n",
       "Category         0\n",
       "Sentiment        0\n",
       "Score            0\n",
       "dtype: int64"
      ]
     },
     "execution_count": 98,
     "metadata": {},
     "output_type": "execute_result"
    }
   ],
   "source": [
    "test_df.dropna(inplace=True)\n",
    "test_df.isnull().sum()"
   ]
  },
  {
   "cell_type": "code",
   "execution_count": 99,
   "id": "aa2da565-e211-48ff-9ecd-07bf4578af2f",
   "metadata": {},
   "outputs": [
    {
     "name": "stdout",
     "output_type": "stream",
     "text": [
      "<class 'pandas.core.frame.DataFrame'>\n",
      "Index: 24573 entries, 0 to 24572\n",
      "Data columns (total 7 columns):\n",
      " #   Column         Non-Null Count  Dtype         \n",
      "---  ------         --------------  -----         \n",
      " 0   Content ID     24573 non-null  object        \n",
      " 1   Reaction Type  24573 non-null  object        \n",
      " 2   Datetime       24573 non-null  datetime64[ns]\n",
      " 3   Content Type   24573 non-null  object        \n",
      " 4   Category       24573 non-null  object        \n",
      " 5   Sentiment      24573 non-null  object        \n",
      " 6   Score          24573 non-null  float64       \n",
      "dtypes: datetime64[ns](1), float64(1), object(5)\n",
      "memory usage: 1.5+ MB\n"
     ]
    }
   ],
   "source": [
    "# Confirm \"test_df\" is the same as \"merged_df\" from previous analysis\n",
    "test_df.info()"
   ]
  },
  {
   "cell_type": "code",
   "execution_count": 100,
   "id": "16a374b7-d6d8-4c4a-8cfb-facf97e2691d",
   "metadata": {},
   "outputs": [
    {
     "name": "stdout",
     "output_type": "stream",
     "text": [
      "Number of Unique Content ID's | 962\n"
     ]
    }
   ],
   "source": [
    "# Confirm the number of unique \"Content ID\" values match previous analysis\n",
    "print(f\"Number of Unique Content ID's | {test_df['Content ID'].nunique()}\")"
   ]
  },
  {
   "cell_type": "code",
   "execution_count": 101,
   "id": "e462b1ca-3c31-4d82-8dac-ede899e8fa3e",
   "metadata": {},
   "outputs": [
    {
     "data": {
      "text/html": [
       "<div>\n",
       "<style scoped>\n",
       "    .dataframe tbody tr th:only-of-type {\n",
       "        vertical-align: middle;\n",
       "    }\n",
       "\n",
       "    .dataframe tbody tr th {\n",
       "        vertical-align: top;\n",
       "    }\n",
       "\n",
       "    .dataframe thead th {\n",
       "        text-align: right;\n",
       "    }\n",
       "</style>\n",
       "<table border=\"1\" class=\"dataframe\">\n",
       "  <thead>\n",
       "    <tr style=\"text-align: right;\">\n",
       "      <th>Month</th>\n",
       "      <th>April</th>\n",
       "      <th>August</th>\n",
       "      <th>December</th>\n",
       "      <th>February</th>\n",
       "      <th>January</th>\n",
       "      <th>July</th>\n",
       "      <th>June</th>\n",
       "      <th>March</th>\n",
       "      <th>May</th>\n",
       "      <th>November</th>\n",
       "      <th>October</th>\n",
       "      <th>Total Occurrences</th>\n",
       "    </tr>\n",
       "    <tr>\n",
       "      <th>Year</th>\n",
       "      <th></th>\n",
       "      <th></th>\n",
       "      <th></th>\n",
       "      <th></th>\n",
       "      <th></th>\n",
       "      <th></th>\n",
       "      <th></th>\n",
       "      <th></th>\n",
       "      <th></th>\n",
       "      <th></th>\n",
       "      <th></th>\n",
       "      <th></th>\n",
       "    </tr>\n",
       "  </thead>\n",
       "  <tbody>\n",
       "    <tr>\n",
       "      <th>2020</th>\n",
       "      <td>0</td>\n",
       "      <td>2</td>\n",
       "      <td>1</td>\n",
       "      <td>0</td>\n",
       "      <td>0</td>\n",
       "      <td>3</td>\n",
       "      <td>0</td>\n",
       "      <td>0</td>\n",
       "      <td>0</td>\n",
       "      <td>1</td>\n",
       "      <td>1</td>\n",
       "      <td>8</td>\n",
       "    </tr>\n",
       "    <tr>\n",
       "      <th>2021</th>\n",
       "      <td>3</td>\n",
       "      <td>0</td>\n",
       "      <td>0</td>\n",
       "      <td>3</td>\n",
       "      <td>2</td>\n",
       "      <td>0</td>\n",
       "      <td>1</td>\n",
       "      <td>1</td>\n",
       "      <td>2</td>\n",
       "      <td>0</td>\n",
       "      <td>0</td>\n",
       "      <td>12</td>\n",
       "    </tr>\n",
       "  </tbody>\n",
       "</table>\n",
       "</div>"
      ],
      "text/plain": [
       "Month  April  August  December  February  January  July  June  March  May  \\\n",
       "Year                                                                        \n",
       "2020       0       2         1         0        0     3     0      0    0   \n",
       "2021       3       0         0         3        2     0     1      1    2   \n",
       "\n",
       "Month  November  October  Total Occurrences  \n",
       "Year                                         \n",
       "2020          1        1                  8  \n",
       "2021          0        0                 12  "
      ]
     },
     "execution_count": 101,
     "metadata": {},
     "output_type": "execute_result"
    }
   ],
   "source": [
    "# Random \"Content ID\" to check\n",
    "content_id_to_check = 'fada6910-2cc5-4600-808c-1e6066f795a6'\n",
    "\n",
    "# Filter the DataFrame for the specified Content ID\n",
    "filtered_data = test_df[test_df['Content ID'] == content_id_to_check].copy()\n",
    "\n",
    "# Extract month and year from the \"Datetime\" column using .loc\n",
    "filtered_data.loc[:, 'Month'] = filtered_data['Datetime'].dt.month_name()\n",
    "filtered_data.loc[:, 'Year'] = filtered_data['Datetime'].dt.year\n",
    "\n",
    "# Count occurrences by month and year\n",
    "monthly_counts = filtered_data.groupby(['Year', 'Month']).size().reset_index(name='Occurrences')\n",
    "\n",
    "# Pivot the data to get months as columns\n",
    "result_df = monthly_counts.pivot(index='Year', columns='Month', values='Occurrences').fillna(0)\n",
    "\n",
    "# Add a column for total occurrences per year\n",
    "result_df['Total Occurrences'] = result_df.sum(axis=1)\n",
    "\n",
    "# Display the result as a DataFrame\n",
    "result_df = result_df.astype(int)  # Convert to integer if needed\n",
    "result_df"
   ]
  },
  {
   "cell_type": "code",
   "execution_count": 102,
   "id": "75dd5ee7-26e0-4eaa-be5b-f02cc3dc36df",
   "metadata": {},
   "outputs": [
    {
     "data": {
      "text/html": [
       "<div>\n",
       "<style scoped>\n",
       "    .dataframe tbody tr th:only-of-type {\n",
       "        vertical-align: middle;\n",
       "    }\n",
       "\n",
       "    .dataframe tbody tr th {\n",
       "        vertical-align: top;\n",
       "    }\n",
       "\n",
       "    .dataframe thead th {\n",
       "        text-align: right;\n",
       "    }\n",
       "</style>\n",
       "<table border=\"1\" class=\"dataframe\">\n",
       "  <thead>\n",
       "    <tr style=\"text-align: right;\">\n",
       "      <th></th>\n",
       "      <th>Content ID</th>\n",
       "      <th>Avg Monthly Occurrences</th>\n",
       "      <th>Total Occurrences</th>\n",
       "      <th>Months Appeared</th>\n",
       "    </tr>\n",
       "  </thead>\n",
       "  <tbody>\n",
       "    <tr>\n",
       "      <th>0</th>\n",
       "      <td>004e820e-49c3-4ba2-9d02-62db0065410c</td>\n",
       "      <td>0.083333</td>\n",
       "      <td>1</td>\n",
       "      <td>1</td>\n",
       "    </tr>\n",
       "    <tr>\n",
       "      <th>1</th>\n",
       "      <td>00d0cdf9-5919-4102-bf84-ebde253c3cd2</td>\n",
       "      <td>3.538462</td>\n",
       "      <td>46</td>\n",
       "      <td>12</td>\n",
       "    </tr>\n",
       "    <tr>\n",
       "      <th>2</th>\n",
       "      <td>01396602-c759-4a17-90f0-8f9b3ca11b30</td>\n",
       "      <td>3.076923</td>\n",
       "      <td>40</td>\n",
       "      <td>12</td>\n",
       "    </tr>\n",
       "    <tr>\n",
       "      <th>3</th>\n",
       "      <td>019b61f4-926c-438e-adaf-6119c5eab752</td>\n",
       "      <td>1.083333</td>\n",
       "      <td>13</td>\n",
       "      <td>11</td>\n",
       "    </tr>\n",
       "    <tr>\n",
       "      <th>4</th>\n",
       "      <td>01ab84dd-6364-4236-abbb-3f237db77180</td>\n",
       "      <td>0.083333</td>\n",
       "      <td>1</td>\n",
       "      <td>1</td>\n",
       "    </tr>\n",
       "    <tr>\n",
       "      <th>5</th>\n",
       "      <td>01aff5ec-2aa8-412e-99ec-526f0f9a6d5e</td>\n",
       "      <td>3.307692</td>\n",
       "      <td>43</td>\n",
       "      <td>11</td>\n",
       "    </tr>\n",
       "    <tr>\n",
       "      <th>6</th>\n",
       "      <td>02664d35-87cf-46a6-a80b-78fbc9ac8b2f</td>\n",
       "      <td>2.916667</td>\n",
       "      <td>35</td>\n",
       "      <td>10</td>\n",
       "    </tr>\n",
       "    <tr>\n",
       "      <th>7</th>\n",
       "      <td>026973ef-4b73-4901-9160-bc9e04516057</td>\n",
       "      <td>3.000000</td>\n",
       "      <td>36</td>\n",
       "      <td>10</td>\n",
       "    </tr>\n",
       "    <tr>\n",
       "      <th>8</th>\n",
       "      <td>0289b7bc-bc95-4f1d-83fe-9ca662194158</td>\n",
       "      <td>2.500000</td>\n",
       "      <td>30</td>\n",
       "      <td>11</td>\n",
       "    </tr>\n",
       "    <tr>\n",
       "      <th>9</th>\n",
       "      <td>02ba5af1-784a-44cc-ae3a-14833c4a2237</td>\n",
       "      <td>3.692308</td>\n",
       "      <td>48</td>\n",
       "      <td>12</td>\n",
       "    </tr>\n",
       "  </tbody>\n",
       "</table>\n",
       "</div>"
      ],
      "text/plain": [
       "                             Content ID  Avg Monthly Occurrences  \\\n",
       "0  004e820e-49c3-4ba2-9d02-62db0065410c                 0.083333   \n",
       "1  00d0cdf9-5919-4102-bf84-ebde253c3cd2                 3.538462   \n",
       "2  01396602-c759-4a17-90f0-8f9b3ca11b30                 3.076923   \n",
       "3  019b61f4-926c-438e-adaf-6119c5eab752                 1.083333   \n",
       "4  01ab84dd-6364-4236-abbb-3f237db77180                 0.083333   \n",
       "5  01aff5ec-2aa8-412e-99ec-526f0f9a6d5e                 3.307692   \n",
       "6  02664d35-87cf-46a6-a80b-78fbc9ac8b2f                 2.916667   \n",
       "7  026973ef-4b73-4901-9160-bc9e04516057                 3.000000   \n",
       "8  0289b7bc-bc95-4f1d-83fe-9ca662194158                 2.500000   \n",
       "9  02ba5af1-784a-44cc-ae3a-14833c4a2237                 3.692308   \n",
       "\n",
       "   Total Occurrences  Months Appeared  \n",
       "0                  1                1  \n",
       "1                 46               12  \n",
       "2                 40               12  \n",
       "3                 13               11  \n",
       "4                  1                1  \n",
       "5                 43               11  \n",
       "6                 35               10  \n",
       "7                 36               10  \n",
       "8                 30               11  \n",
       "9                 48               12  "
      ]
     },
     "execution_count": 102,
     "metadata": {},
     "output_type": "execute_result"
    }
   ],
   "source": [
    "# Create Month-Year combinations for each Content ID\n",
    "test_df['Month'] = test_df['Datetime'].dt.month_name()\n",
    "test_df['Year'] = test_df['Datetime'].dt.year\n",
    "\n",
    "# Count occurrences\n",
    "monthly_counts = test_df.groupby(['Year', 'Month', 'Content ID']).size().reset_index(name='Occurrences')\n",
    "\n",
    "# Create a complete DataFrame for merging using a Cartesian product\n",
    "all_months = test_df['Month'].unique()\n",
    "all_content_ids = test_df['Content ID'].unique()\n",
    "complete_df = pd.MultiIndex.from_product([all_content_ids, all_months], names=['Content ID', 'Month']).to_frame(index=False)\n",
    "\n",
    "# Merge and fill missing values\n",
    "merged_counts = complete_df.merge(monthly_counts, on=['Content ID', 'Month'], how='left').fillna(0)\n",
    "\n",
    "# Calculate the average occurrences per month, including months with zero occurrences\n",
    "average_counts = merged_counts.groupby('Content ID')['Occurrences'].mean().reset_index(name='Avg Monthly Occurrences')\n",
    "\n",
    "# Calculate the number of months each Content ID appeared in\n",
    "months_appeared = merged_counts[merged_counts['Occurrences'] > 0].groupby('Content ID')['Month'].nunique().reset_index(name='Months Appeared')\n",
    "\n",
    "# Calculate total occurrences\n",
    "total_occurrences = test_df['Content ID'].value_counts().reset_index()\n",
    "total_occurrences.columns = ['Content ID', 'Total Occurrences']\n",
    "\n",
    "# Merge average, total occurrences, and months appeared\n",
    "result_df = average_counts.merge(total_occurrences, on='Content ID').merge(months_appeared, on='Content ID')\n",
    "\n",
    "# Display the result\n",
    "result_df.head(10)"
   ]
  },
  {
   "cell_type": "code",
   "execution_count": 103,
   "id": "e90fbd72-ac72-4a0e-bb7d-50156b0a2de4",
   "metadata": {},
   "outputs": [
    {
     "data": {
      "text/html": [
       "<div>\n",
       "<style scoped>\n",
       "    .dataframe tbody tr th:only-of-type {\n",
       "        vertical-align: middle;\n",
       "    }\n",
       "\n",
       "    .dataframe tbody tr th {\n",
       "        vertical-align: top;\n",
       "    }\n",
       "\n",
       "    .dataframe thead th {\n",
       "        text-align: right;\n",
       "    }\n",
       "</style>\n",
       "<table border=\"1\" class=\"dataframe\">\n",
       "  <thead>\n",
       "    <tr style=\"text-align: right;\">\n",
       "      <th></th>\n",
       "      <th>Content ID</th>\n",
       "      <th>Avg Monthly Occurrences</th>\n",
       "      <th>Total Occurrences</th>\n",
       "      <th>Months Appeared</th>\n",
       "    </tr>\n",
       "  </thead>\n",
       "  <tbody>\n",
       "    <tr>\n",
       "      <th>9</th>\n",
       "      <td>02ba5af1-784a-44cc-ae3a-14833c4a2237</td>\n",
       "      <td>3.692308</td>\n",
       "      <td>48</td>\n",
       "      <td>12</td>\n",
       "    </tr>\n",
       "    <tr>\n",
       "      <th>0</th>\n",
       "      <td>004e820e-49c3-4ba2-9d02-62db0065410c</td>\n",
       "      <td>0.083333</td>\n",
       "      <td>1</td>\n",
       "      <td>1</td>\n",
       "    </tr>\n",
       "  </tbody>\n",
       "</table>\n",
       "</div>"
      ],
      "text/plain": [
       "                             Content ID  Avg Monthly Occurrences  \\\n",
       "9  02ba5af1-784a-44cc-ae3a-14833c4a2237                 3.692308   \n",
       "0  004e820e-49c3-4ba2-9d02-62db0065410c                 0.083333   \n",
       "\n",
       "   Total Occurrences  Months Appeared  \n",
       "9                 48               12  \n",
       "0                  1                1  "
      ]
     },
     "execution_count": 103,
     "metadata": {},
     "output_type": "execute_result"
    }
   ],
   "source": [
    "# Get the row with the maximum total occurrences\n",
    "max_occurrence_row = result_df.loc[result_df['Total Occurrences'].idxmax()]\n",
    "\n",
    "# Get the row with the minimum total occurrences\n",
    "min_occurrence_row = result_df.loc[result_df['Total Occurrences'].idxmin()]\n",
    "\n",
    "# Create a DataFrame to display the results\n",
    "max_min_df = pd.DataFrame([max_occurrence_row, min_occurrence_row])\n",
    "\n",
    "# Display the result\n",
    "max_min_df"
   ]
  },
  {
   "cell_type": "code",
   "execution_count": 104,
   "id": "7f840395-5eca-45f0-b4cd-73e51eb4b9df",
   "metadata": {},
   "outputs": [
    {
     "name": "stdout",
     "output_type": "stream",
     "text": [
      "Overall Average Monthly Occurrences | 2.04\n",
      "Overall Average Total Occurrences | 25.54\n"
     ]
    }
   ],
   "source": [
    "# Calculate the overall average monthly occurrences\n",
    "monthly_average = result_df['Avg Monthly Occurrences'].mean()\n",
    "overall_average = result_df['Total Occurrences'].mean()\n",
    "\n",
    "# Display the result\n",
    "print(f'Overall Average Monthly Occurrences | {monthly_average:.2f}')\n",
    "print(f'Overall Average Total Occurrences | {overall_average:.2f}')"
   ]
  },
  {
   "cell_type": "markdown",
   "id": "c0a87941-7620-4565-8441-a709a8ed46d8",
   "metadata": {},
   "source": [
    "<br>\n",
    "\n",
    "# **Results**\n",
    "\n",
    "The analysis results indicate that the 980 rows with blanks in the 'Reaction Type' column `do not represent the original upload dates for each piece of content`, as initially hypothesized. In Phase 1, I attempted to confirm this by checking if the first occurrence of each unique 'Content ID' contained blanks in the 'Reaction Type', 'Sentiment', and 'Score' columns. However, this hypothesis was disproven, as `962 first occurrences of unique 'Content IDs' had values in the 'Reaction Type' column.`\n",
    "\n",
    "Moving to Phase 2, I tested the alternative hypothesis that each 'Content ID' does not represent upload dates but is simply instances in which a piece of content received a reaction. My analysis showed that a typical 'Content ID' appeared multiple times across several months. A sample 'Content ID' appeared 20 times over 11 months. Additionally, `Content IDs occurrences ranged` from a minimum of `1 to a maximum of 48` per month, `averaging 25.54` appearances across the dataset or `2.04 times per month`.\n",
    "\n",
    "These findings support the conclusion that unique \"Content IDs\" likely indicate posts receiving reactions rather than unique upload events. This repetition across months aligns with the behavior of ongoing engagement rather than singular posting instances. Therefore, I cannot confirm how many posts were made within a given month but rather can confirm the number of posts received reactions per month."
   ]
  }
 ],
 "metadata": {
  "kernelspec": {
   "display_name": "Python 3 (ipykernel)",
   "language": "python",
   "name": "python3"
  },
  "language_info": {
   "codemirror_mode": {
    "name": "ipython",
    "version": 3
   },
   "file_extension": ".py",
   "mimetype": "text/x-python",
   "name": "python",
   "nbconvert_exporter": "python",
   "pygments_lexer": "ipython3",
   "version": "3.12.4"
  }
 },
 "nbformat": 4,
 "nbformat_minor": 5
}
